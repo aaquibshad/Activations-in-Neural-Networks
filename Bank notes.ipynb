{
 "cells": [
  {
   "cell_type": "code",
   "execution_count": 1,
   "id": "4f203e3d",
   "metadata": {},
   "outputs": [],
   "source": [
    "# Some neccessary Libraries \n",
    "import pandas as pd \n",
    "import numpy as np\n",
    "import matplotlib.pyplot as plt\n",
    "import seaborn as sns\n",
    "import tensorflow as tf\n",
    "from tensorflow import keras\n",
    "from tensorflow.keras import layers\n",
    "from tensorflow.keras.models import Sequential\n",
    "from sklearn.model_selection import train_test_split\n",
    "from sklearn.preprocessing import OneHotEncoder, StandardScaler"
   ]
  },
  {
   "cell_type": "code",
   "execution_count": 3,
   "id": "811d5c29",
   "metadata": {},
   "outputs": [
    {
     "data": {
      "text/html": [
       "<div>\n",
       "<style scoped>\n",
       "    .dataframe tbody tr th:only-of-type {\n",
       "        vertical-align: middle;\n",
       "    }\n",
       "\n",
       "    .dataframe tbody tr th {\n",
       "        vertical-align: top;\n",
       "    }\n",
       "\n",
       "    .dataframe thead th {\n",
       "        text-align: right;\n",
       "    }\n",
       "</style>\n",
       "<table border=\"1\" class=\"dataframe\">\n",
       "  <thead>\n",
       "    <tr style=\"text-align: right;\">\n",
       "      <th></th>\n",
       "      <th>variance</th>\n",
       "      <th>skewness</th>\n",
       "      <th>curtosis</th>\n",
       "      <th>entropy</th>\n",
       "      <th>class</th>\n",
       "    </tr>\n",
       "  </thead>\n",
       "  <tbody>\n",
       "    <tr>\n",
       "      <th>0</th>\n",
       "      <td>3.62160</td>\n",
       "      <td>8.6661</td>\n",
       "      <td>-2.8073</td>\n",
       "      <td>-0.44699</td>\n",
       "      <td>0</td>\n",
       "    </tr>\n",
       "    <tr>\n",
       "      <th>1</th>\n",
       "      <td>4.54590</td>\n",
       "      <td>8.1674</td>\n",
       "      <td>-2.4586</td>\n",
       "      <td>-1.46210</td>\n",
       "      <td>0</td>\n",
       "    </tr>\n",
       "    <tr>\n",
       "      <th>2</th>\n",
       "      <td>3.86600</td>\n",
       "      <td>-2.6383</td>\n",
       "      <td>1.9242</td>\n",
       "      <td>0.10645</td>\n",
       "      <td>0</td>\n",
       "    </tr>\n",
       "    <tr>\n",
       "      <th>3</th>\n",
       "      <td>3.45660</td>\n",
       "      <td>9.5228</td>\n",
       "      <td>-4.0112</td>\n",
       "      <td>-3.59440</td>\n",
       "      <td>0</td>\n",
       "    </tr>\n",
       "    <tr>\n",
       "      <th>4</th>\n",
       "      <td>0.32924</td>\n",
       "      <td>-4.4552</td>\n",
       "      <td>4.5718</td>\n",
       "      <td>-0.98880</td>\n",
       "      <td>0</td>\n",
       "    </tr>\n",
       "  </tbody>\n",
       "</table>\n",
       "</div>"
      ],
      "text/plain": [
       "   variance  skewness  curtosis  entropy  class\n",
       "0   3.62160    8.6661   -2.8073 -0.44699      0\n",
       "1   4.54590    8.1674   -2.4586 -1.46210      0\n",
       "2   3.86600   -2.6383    1.9242  0.10645      0\n",
       "3   3.45660    9.5228   -4.0112 -3.59440      0\n",
       "4   0.32924   -4.4552    4.5718 -0.98880      0"
      ]
     },
     "execution_count": 3,
     "metadata": {},
     "output_type": "execute_result"
    }
   ],
   "source": [
    "Bank_note = pd.read_csv('BankNote.csv')\n",
    "Bank_note.head() "
   ]
  },
  {
   "cell_type": "code",
   "execution_count": 4,
   "id": "63f51acc",
   "metadata": {},
   "outputs": [
    {
     "name": "stdout",
     "output_type": "stream",
     "text": [
      "<class 'pandas.core.frame.DataFrame'>\n",
      "RangeIndex: 1372 entries, 0 to 1371\n",
      "Data columns (total 5 columns):\n",
      " #   Column    Non-Null Count  Dtype  \n",
      "---  ------    --------------  -----  \n",
      " 0   variance  1372 non-null   float64\n",
      " 1   skewness  1372 non-null   float64\n",
      " 2   curtosis  1372 non-null   float64\n",
      " 3   entropy   1372 non-null   float64\n",
      " 4   class     1372 non-null   int64  \n",
      "dtypes: float64(4), int64(1)\n",
      "memory usage: 53.7 KB\n"
     ]
    }
   ],
   "source": [
    "Bank_note.info()"
   ]
  },
  {
   "cell_type": "code",
   "execution_count": 5,
   "id": "2c0098e7",
   "metadata": {},
   "outputs": [
    {
     "data": {
      "text/html": [
       "<div>\n",
       "<style scoped>\n",
       "    .dataframe tbody tr th:only-of-type {\n",
       "        vertical-align: middle;\n",
       "    }\n",
       "\n",
       "    .dataframe tbody tr th {\n",
       "        vertical-align: top;\n",
       "    }\n",
       "\n",
       "    .dataframe thead th {\n",
       "        text-align: right;\n",
       "    }\n",
       "</style>\n",
       "<table border=\"1\" class=\"dataframe\">\n",
       "  <thead>\n",
       "    <tr style=\"text-align: right;\">\n",
       "      <th></th>\n",
       "      <th>variance</th>\n",
       "      <th>skewness</th>\n",
       "      <th>curtosis</th>\n",
       "      <th>entropy</th>\n",
       "      <th>class</th>\n",
       "    </tr>\n",
       "  </thead>\n",
       "  <tbody>\n",
       "    <tr>\n",
       "      <th>count</th>\n",
       "      <td>1372.000000</td>\n",
       "      <td>1372.000000</td>\n",
       "      <td>1372.000000</td>\n",
       "      <td>1372.000000</td>\n",
       "      <td>1372.000000</td>\n",
       "    </tr>\n",
       "    <tr>\n",
       "      <th>mean</th>\n",
       "      <td>0.433735</td>\n",
       "      <td>1.922353</td>\n",
       "      <td>1.397627</td>\n",
       "      <td>-1.191657</td>\n",
       "      <td>0.444606</td>\n",
       "    </tr>\n",
       "    <tr>\n",
       "      <th>std</th>\n",
       "      <td>2.842763</td>\n",
       "      <td>5.869047</td>\n",
       "      <td>4.310030</td>\n",
       "      <td>2.101013</td>\n",
       "      <td>0.497103</td>\n",
       "    </tr>\n",
       "    <tr>\n",
       "      <th>min</th>\n",
       "      <td>-7.042100</td>\n",
       "      <td>-13.773100</td>\n",
       "      <td>-5.286100</td>\n",
       "      <td>-8.548200</td>\n",
       "      <td>0.000000</td>\n",
       "    </tr>\n",
       "    <tr>\n",
       "      <th>25%</th>\n",
       "      <td>-1.773000</td>\n",
       "      <td>-1.708200</td>\n",
       "      <td>-1.574975</td>\n",
       "      <td>-2.413450</td>\n",
       "      <td>0.000000</td>\n",
       "    </tr>\n",
       "    <tr>\n",
       "      <th>50%</th>\n",
       "      <td>0.496180</td>\n",
       "      <td>2.319650</td>\n",
       "      <td>0.616630</td>\n",
       "      <td>-0.586650</td>\n",
       "      <td>0.000000</td>\n",
       "    </tr>\n",
       "    <tr>\n",
       "      <th>75%</th>\n",
       "      <td>2.821475</td>\n",
       "      <td>6.814625</td>\n",
       "      <td>3.179250</td>\n",
       "      <td>0.394810</td>\n",
       "      <td>1.000000</td>\n",
       "    </tr>\n",
       "    <tr>\n",
       "      <th>max</th>\n",
       "      <td>6.824800</td>\n",
       "      <td>12.951600</td>\n",
       "      <td>17.927400</td>\n",
       "      <td>2.449500</td>\n",
       "      <td>1.000000</td>\n",
       "    </tr>\n",
       "  </tbody>\n",
       "</table>\n",
       "</div>"
      ],
      "text/plain": [
       "          variance     skewness     curtosis      entropy        class\n",
       "count  1372.000000  1372.000000  1372.000000  1372.000000  1372.000000\n",
       "mean      0.433735     1.922353     1.397627    -1.191657     0.444606\n",
       "std       2.842763     5.869047     4.310030     2.101013     0.497103\n",
       "min      -7.042100   -13.773100    -5.286100    -8.548200     0.000000\n",
       "25%      -1.773000    -1.708200    -1.574975    -2.413450     0.000000\n",
       "50%       0.496180     2.319650     0.616630    -0.586650     0.000000\n",
       "75%       2.821475     6.814625     3.179250     0.394810     1.000000\n",
       "max       6.824800    12.951600    17.927400     2.449500     1.000000"
      ]
     },
     "execution_count": 5,
     "metadata": {},
     "output_type": "execute_result"
    }
   ],
   "source": [
    "Bank_note.describe() # Statistical summary of the iris dataset"
   ]
  },
  {
   "cell_type": "code",
   "execution_count": 6,
   "id": "5978013e",
   "metadata": {},
   "outputs": [
    {
     "data": {
      "text/plain": [
       "variance    0.0\n",
       "skewness    0.0\n",
       "curtosis    0.0\n",
       "entropy     0.0\n",
       "class       0.0\n",
       "dtype: float64"
      ]
     },
     "execution_count": 6,
     "metadata": {},
     "output_type": "execute_result"
    }
   ],
   "source": [
    "Bank_note.isnull().sum()/len(Bank_note)*100"
   ]
  },
  {
   "cell_type": "code",
   "execution_count": 7,
   "id": "4d46014a",
   "metadata": {},
   "outputs": [
    {
     "data": {
      "text/plain": [
       "Text(0.5, 1.0, 'Distribution of Class')"
      ]
     },
     "execution_count": 7,
     "metadata": {},
     "output_type": "execute_result"
    },
    {
     "data": {
      "image/png": "[encoded data removed]",
      "text/plain": [
       "<Figure size 432x288 with 1 Axes>"
      ]
     },
     "metadata": {},
     "output_type": "display_data"
    }
   ],
   "source": [
    "plt.style.use('ggplot')\n",
    "sns.countplot(data = Bank_note , x = 'class')\n",
    "plt.title('Distribution of Class')"
   ]
  },
  {
   "cell_type": "code",
   "execution_count": 8,
   "id": "10ca5507",
   "metadata": {},
   "outputs": [],
   "source": [
    "X = Bank_note.iloc[: , :4]\n",
    "y = Bank_note.iloc[: , -1]"
   ]
  },
  {
   "cell_type": "code",
   "execution_count": 10,
   "id": "f1c9469a",
   "metadata": {},
   "outputs": [
    {
     "data": {
      "text/html": [
       "<div>\n",
       "<style scoped>\n",
       "    .dataframe tbody tr th:only-of-type {\n",
       "        vertical-align: middle;\n",
       "    }\n",
       "\n",
       "    .dataframe tbody tr th {\n",
       "        vertical-align: top;\n",
       "    }\n",
       "\n",
       "    .dataframe thead th {\n",
       "        text-align: right;\n",
       "    }\n",
       "</style>\n",
       "<table border=\"1\" class=\"dataframe\">\n",
       "  <thead>\n",
       "    <tr style=\"text-align: right;\">\n",
       "      <th></th>\n",
       "      <th>variance</th>\n",
       "      <th>skewness</th>\n",
       "      <th>curtosis</th>\n",
       "      <th>entropy</th>\n",
       "    </tr>\n",
       "  </thead>\n",
       "  <tbody>\n",
       "    <tr>\n",
       "      <th>0</th>\n",
       "      <td>3.62160</td>\n",
       "      <td>8.66610</td>\n",
       "      <td>-2.8073</td>\n",
       "      <td>-0.44699</td>\n",
       "    </tr>\n",
       "    <tr>\n",
       "      <th>1</th>\n",
       "      <td>4.54590</td>\n",
       "      <td>8.16740</td>\n",
       "      <td>-2.4586</td>\n",
       "      <td>-1.46210</td>\n",
       "    </tr>\n",
       "    <tr>\n",
       "      <th>2</th>\n",
       "      <td>3.86600</td>\n",
       "      <td>-2.63830</td>\n",
       "      <td>1.9242</td>\n",
       "      <td>0.10645</td>\n",
       "    </tr>\n",
       "    <tr>\n",
       "      <th>3</th>\n",
       "      <td>3.45660</td>\n",
       "      <td>9.52280</td>\n",
       "      <td>-4.0112</td>\n",
       "      <td>-3.59440</td>\n",
       "    </tr>\n",
       "    <tr>\n",
       "      <th>4</th>\n",
       "      <td>0.32924</td>\n",
       "      <td>-4.45520</td>\n",
       "      <td>4.5718</td>\n",
       "      <td>-0.98880</td>\n",
       "    </tr>\n",
       "    <tr>\n",
       "      <th>...</th>\n",
       "      <td>...</td>\n",
       "      <td>...</td>\n",
       "      <td>...</td>\n",
       "      <td>...</td>\n",
       "    </tr>\n",
       "    <tr>\n",
       "      <th>1367</th>\n",
       "      <td>0.40614</td>\n",
       "      <td>1.34920</td>\n",
       "      <td>-1.4501</td>\n",
       "      <td>-0.55949</td>\n",
       "    </tr>\n",
       "    <tr>\n",
       "      <th>1368</th>\n",
       "      <td>-1.38870</td>\n",
       "      <td>-4.87730</td>\n",
       "      <td>6.4774</td>\n",
       "      <td>0.34179</td>\n",
       "    </tr>\n",
       "    <tr>\n",
       "      <th>1369</th>\n",
       "      <td>-3.75030</td>\n",
       "      <td>-13.45860</td>\n",
       "      <td>17.5932</td>\n",
       "      <td>-2.77710</td>\n",
       "    </tr>\n",
       "    <tr>\n",
       "      <th>1370</th>\n",
       "      <td>-3.56370</td>\n",
       "      <td>-8.38270</td>\n",
       "      <td>12.3930</td>\n",
       "      <td>-1.28230</td>\n",
       "    </tr>\n",
       "    <tr>\n",
       "      <th>1371</th>\n",
       "      <td>-2.54190</td>\n",
       "      <td>-0.65804</td>\n",
       "      <td>2.6842</td>\n",
       "      <td>1.19520</td>\n",
       "    </tr>\n",
       "  </tbody>\n",
       "</table>\n",
       "<p>1372 rows × 4 columns</p>\n",
       "</div>"
      ],
      "text/plain": [
       "      variance  skewness  curtosis  entropy\n",
       "0      3.62160   8.66610   -2.8073 -0.44699\n",
       "1      4.54590   8.16740   -2.4586 -1.46210\n",
       "2      3.86600  -2.63830    1.9242  0.10645\n",
       "3      3.45660   9.52280   -4.0112 -3.59440\n",
       "4      0.32924  -4.45520    4.5718 -0.98880\n",
       "...        ...       ...       ...      ...\n",
       "1367   0.40614   1.34920   -1.4501 -0.55949\n",
       "1368  -1.38870  -4.87730    6.4774  0.34179\n",
       "1369  -3.75030 -13.45860   17.5932 -2.77710\n",
       "1370  -3.56370  -8.38270   12.3930 -1.28230\n",
       "1371  -2.54190  -0.65804    2.6842  1.19520\n",
       "\n",
       "[1372 rows x 4 columns]"
      ]
     },
     "execution_count": 10,
     "metadata": {},
     "output_type": "execute_result"
    }
   ],
   "source": [
    "X"
   ]
  },
  {
   "cell_type": "code",
   "execution_count": 11,
   "id": "371930c9",
   "metadata": {},
   "outputs": [
    {
     "data": {
      "text/plain": [
       "0       0\n",
       "1       0\n",
       "2       0\n",
       "3       0\n",
       "4       0\n",
       "       ..\n",
       "1367    1\n",
       "1368    1\n",
       "1369    1\n",
       "1370    1\n",
       "1371    1\n",
       "Name: class, Length: 1372, dtype: int64"
      ]
     },
     "execution_count": 11,
     "metadata": {},
     "output_type": "execute_result"
    }
   ],
   "source": [
    "y"
   ]
  },
  {
   "cell_type": "code",
   "execution_count": 12,
   "id": "299fc554",
   "metadata": {},
   "outputs": [],
   "source": [
    "scaler = StandardScaler()\n",
    "X_scaled = scaler.fit_transform(X)"
   ]
  },
  {
   "cell_type": "code",
   "execution_count": 13,
   "id": "bc24aa2d",
   "metadata": {},
   "outputs": [],
   "source": [
    "X_train, X_test, Y_train, Y_test = train_test_split(\n",
    "    X_scaled, y, test_size=0.2, random_state=4)\n",
    "\n",
    "n_features = X.shape[1]\n",
    "n_classes = 2"
   ]
  },
  {
   "cell_type": "code",
   "execution_count": 14,
   "id": "d23579ce",
   "metadata": {},
   "outputs": [],
   "source": [
    "Y_train = tf.keras.utils.to_categorical(Y_train, num_classes=2)"
   ]
  },
  {
   "cell_type": "code",
   "execution_count": 15,
   "id": "7abbc128",
   "metadata": {},
   "outputs": [],
   "source": [
    "Y_test = tf.keras.utils.to_categorical(Y_test, num_classes=2)"
   ]
  },
  {
   "cell_type": "code",
   "execution_count": 16,
   "id": "f3c7998c",
   "metadata": {},
   "outputs": [],
   "source": [
    "\n",
    "initializer0 = keras.initializers.RandomUniform(minval = -0.003, maxval =0.0)\n",
    "initializer1 = keras.initializers.RandomUniform(minval = -0.003, maxval =0.0)\n",
    "\n",
    "class Adaact(keras.layers.Layer):\n",
    "    def __init__(self):\n",
    "        super(Adaact, self).__init__()\n",
    "        self.k0 = self.add_weight(name='k0', shape = (), initializer=initializer0, trainable=True)\n",
    "        self.k1 = self.add_weight(name='k1', shape = (), initializer=initializer1, trainable=True)\n",
    "        \n",
    "    def call(self, inputs):\n",
    "        return self.k0 + tf.multiply(inputs, self.k1)"
   ]
  },
  {
   "cell_type": "code",
   "execution_count": 17,
   "id": "ac5d0ba7",
   "metadata": {},
   "outputs": [],
   "source": [
    "np.random.seed(1)"
   ]
  },
  {
   "cell_type": "code",
   "execution_count": 18,
   "id": "a87aa1c7",
   "metadata": {},
   "outputs": [
    {
     "name": "stdout",
     "output_type": "stream",
     "text": [
      "Model: \"sequential\"\n",
      "_________________________________________________________________\n",
      " Layer (type)                Output Shape              Param #   \n",
      "=================================================================\n",
      " dense (Dense)               (None, 25)                125       \n",
      "                                                                 \n",
      " adaact (Adaact)             (None, 25)                2         \n",
      "                                                                 \n",
      " dropout (Dropout)           (None, 25)                0         \n",
      "                                                                 \n",
      " dense_1 (Dense)             (None, 2)                 52        \n",
      "                                                                 \n",
      "=================================================================\n",
      "Total params: 179\n",
      "Trainable params: 179\n",
      "Non-trainable params: 0\n",
      "_________________________________________________________________\n"
     ]
    }
   ],
   "source": [
    "model = Sequential()\n",
    "model.add(layers.Dense(25, input_dim=n_features))\n",
    "act = Adaact()\n",
    "model.add(act)\n",
    "model.add(layers.Dropout(0.1))\n",
    "model.add(layers.Dense(n_classes, activation='softmax'))\n",
    "model.summary()"
   ]
  },
  {
   "cell_type": "code",
   "execution_count": 19,
   "id": "9f89ad05",
   "metadata": {},
   "outputs": [
    {
     "name": "stdout",
     "output_type": "stream",
     "text": [
      "Epoch 1/100\n",
      "176/176 [==============================] - 2s 4ms/step - loss: 0.6320 - accuracy: 0.8210 - val_loss: 0.4990 - val_accuracy: 0.8227\n",
      "Epoch 2/100\n",
      "176/176 [==============================] - 0s 2ms/step - loss: 0.3398 - accuracy: 0.8860 - val_loss: 0.2409 - val_accuracy: 0.9182\n",
      "Epoch 3/100\n",
      "176/176 [==============================] - 0s 2ms/step - loss: 0.1765 - accuracy: 0.9441 - val_loss: 0.1268 - val_accuracy: 0.9591\n",
      "Epoch 4/100\n",
      "176/176 [==============================] - 0s 2ms/step - loss: 0.1037 - accuracy: 0.9647 - val_loss: 0.0767 - val_accuracy: 0.9818\n",
      "Epoch 5/100\n",
      "176/176 [==============================] - 0s 2ms/step - loss: 0.0705 - accuracy: 0.9726 - val_loss: 0.0561 - val_accuracy: 0.9818\n",
      "Epoch 6/100\n",
      "176/176 [==============================] - 0s 3ms/step - loss: 0.0559 - accuracy: 0.9783 - val_loss: 0.0471 - val_accuracy: 0.9818\n",
      "Epoch 7/100\n",
      "176/176 [==============================] - 0s 2ms/step - loss: 0.0506 - accuracy: 0.9795 - val_loss: 0.0405 - val_accuracy: 0.9818\n",
      "Epoch 8/100\n",
      "176/176 [==============================] - 0s 3ms/step - loss: 0.0427 - accuracy: 0.9829 - val_loss: 0.0369 - val_accuracy: 0.9818\n",
      "Epoch 9/100\n",
      "176/176 [==============================] - 0s 2ms/step - loss: 0.0426 - accuracy: 0.9818 - val_loss: 0.0334 - val_accuracy: 0.9818\n",
      "Epoch 10/100\n",
      "176/176 [==============================] - 1s 3ms/step - loss: 0.0391 - accuracy: 0.9795 - val_loss: 0.0309 - val_accuracy: 0.9818\n",
      "Epoch 11/100\n",
      "176/176 [==============================] - 0s 3ms/step - loss: 0.0374 - accuracy: 0.9795 - val_loss: 0.0294 - val_accuracy: 0.9818\n",
      "Epoch 12/100\n",
      "176/176 [==============================] - 0s 2ms/step - loss: 0.0342 - accuracy: 0.9852 - val_loss: 0.0274 - val_accuracy: 0.9909\n",
      "Epoch 13/100\n",
      "176/176 [==============================] - 0s 3ms/step - loss: 0.0347 - accuracy: 0.9840 - val_loss: 0.0255 - val_accuracy: 0.9909\n",
      "Epoch 14/100\n",
      "176/176 [==============================] - 0s 2ms/step - loss: 0.0317 - accuracy: 0.9840 - val_loss: 0.0252 - val_accuracy: 0.9909\n",
      "Epoch 15/100\n",
      "176/176 [==============================] - 0s 2ms/step - loss: 0.0350 - accuracy: 0.9840 - val_loss: 0.0237 - val_accuracy: 0.9909\n",
      "Epoch 16/100\n",
      "176/176 [==============================] - 0s 2ms/step - loss: 0.0317 - accuracy: 0.9829 - val_loss: 0.0234 - val_accuracy: 0.9909\n",
      "Epoch 17/100\n",
      "176/176 [==============================] - 0s 2ms/step - loss: 0.0294 - accuracy: 0.9840 - val_loss: 0.0220 - val_accuracy: 0.9909\n",
      "Epoch 18/100\n",
      "176/176 [==============================] - 0s 2ms/step - loss: 0.0310 - accuracy: 0.9863 - val_loss: 0.0206 - val_accuracy: 0.9909\n",
      "Epoch 19/100\n",
      "176/176 [==============================] - 0s 2ms/step - loss: 0.0305 - accuracy: 0.9852 - val_loss: 0.0207 - val_accuracy: 0.9909\n",
      "Epoch 20/100\n",
      "176/176 [==============================] - 0s 2ms/step - loss: 0.0301 - accuracy: 0.9852 - val_loss: 0.0194 - val_accuracy: 0.9909\n",
      "Epoch 21/100\n",
      "176/176 [==============================] - 0s 2ms/step - loss: 0.0300 - accuracy: 0.9852 - val_loss: 0.0197 - val_accuracy: 0.9909\n",
      "Epoch 22/100\n",
      "176/176 [==============================] - 0s 3ms/step - loss: 0.0319 - accuracy: 0.9840 - val_loss: 0.0187 - val_accuracy: 0.9909\n",
      "Epoch 23/100\n",
      "176/176 [==============================] - 1s 3ms/step - loss: 0.0311 - accuracy: 0.9863 - val_loss: 0.0182 - val_accuracy: 0.9909\n",
      "Epoch 24/100\n",
      "176/176 [==============================] - 0s 3ms/step - loss: 0.0274 - accuracy: 0.9863 - val_loss: 0.0191 - val_accuracy: 0.9909\n",
      "Epoch 25/100\n",
      "176/176 [==============================] - 0s 3ms/step - loss: 0.0299 - accuracy: 0.9840 - val_loss: 0.0182 - val_accuracy: 0.9909\n",
      "Epoch 26/100\n",
      "176/176 [==============================] - 0s 3ms/step - loss: 0.0297 - accuracy: 0.9840 - val_loss: 0.0181 - val_accuracy: 0.9909\n",
      "Epoch 27/100\n",
      "176/176 [==============================] - 0s 3ms/step - loss: 0.0262 - accuracy: 0.9863 - val_loss: 0.0189 - val_accuracy: 0.9909\n",
      "Epoch 28/100\n",
      "176/176 [==============================] - 1s 3ms/step - loss: 0.0254 - accuracy: 0.9875 - val_loss: 0.0165 - val_accuracy: 0.9909\n",
      "Epoch 29/100\n",
      "176/176 [==============================] - 1s 3ms/step - loss: 0.0269 - accuracy: 0.9840 - val_loss: 0.0165 - val_accuracy: 0.9909\n",
      "Epoch 30/100\n",
      "176/176 [==============================] - 0s 3ms/step - loss: 0.0232 - accuracy: 0.9909 - val_loss: 0.0158 - val_accuracy: 0.9909\n",
      "Epoch 31/100\n",
      "176/176 [==============================] - 0s 3ms/step - loss: 0.0272 - accuracy: 0.9875 - val_loss: 0.0158 - val_accuracy: 0.9909\n",
      "Epoch 32/100\n",
      "176/176 [==============================] - 1s 3ms/step - loss: 0.0276 - accuracy: 0.9875 - val_loss: 0.0163 - val_accuracy: 0.9909\n",
      "Epoch 33/100\n",
      "176/176 [==============================] - 1s 4ms/step - loss: 0.0255 - accuracy: 0.9863 - val_loss: 0.0156 - val_accuracy: 0.9909\n",
      "Epoch 34/100\n",
      "176/176 [==============================] - 1s 4ms/step - loss: 0.0252 - accuracy: 0.9852 - val_loss: 0.0139 - val_accuracy: 0.9909\n",
      "Epoch 35/100\n",
      "176/176 [==============================] - 1s 4ms/step - loss: 0.0266 - accuracy: 0.9829 - val_loss: 0.0149 - val_accuracy: 0.9909\n",
      "Epoch 36/100\n",
      "176/176 [==============================] - 1s 3ms/step - loss: 0.0307 - accuracy: 0.9852 - val_loss: 0.0149 - val_accuracy: 0.9909\n",
      "Epoch 37/100\n",
      "176/176 [==============================] - 0s 2ms/step - loss: 0.0293 - accuracy: 0.9840 - val_loss: 0.0151 - val_accuracy: 0.9909\n",
      "Epoch 38/100\n",
      "176/176 [==============================] - 1s 3ms/step - loss: 0.0280 - accuracy: 0.9863 - val_loss: 0.0144 - val_accuracy: 0.9909\n",
      "Epoch 39/100\n",
      "176/176 [==============================] - 0s 3ms/step - loss: 0.0259 - accuracy: 0.9863 - val_loss: 0.0142 - val_accuracy: 0.9955\n",
      "Epoch 40/100\n",
      "176/176 [==============================] - 0s 2ms/step - loss: 0.0268 - accuracy: 0.9852 - val_loss: 0.0141 - val_accuracy: 0.9909\n",
      "Epoch 41/100\n",
      "176/176 [==============================] - 0s 2ms/step - loss: 0.0278 - accuracy: 0.9852 - val_loss: 0.0153 - val_accuracy: 0.9909\n",
      "Epoch 42/100\n",
      "176/176 [==============================] - 0s 2ms/step - loss: 0.0250 - accuracy: 0.9863 - val_loss: 0.0136 - val_accuracy: 0.9955\n",
      "Epoch 43/100\n",
      "176/176 [==============================] - 0s 2ms/step - loss: 0.0268 - accuracy: 0.9863 - val_loss: 0.0138 - val_accuracy: 0.9909\n",
      "Epoch 44/100\n",
      "176/176 [==============================] - 0s 2ms/step - loss: 0.0254 - accuracy: 0.9875 - val_loss: 0.0142 - val_accuracy: 0.9955\n",
      "Epoch 45/100\n",
      "176/176 [==============================] - 0s 2ms/step - loss: 0.0267 - accuracy: 0.9840 - val_loss: 0.0129 - val_accuracy: 0.9955\n",
      "Epoch 46/100\n",
      "176/176 [==============================] - 0s 2ms/step - loss: 0.0292 - accuracy: 0.9840 - val_loss: 0.0125 - val_accuracy: 0.9955\n",
      "Epoch 47/100\n",
      "176/176 [==============================] - 0s 2ms/step - loss: 0.0275 - accuracy: 0.9840 - val_loss: 0.0126 - val_accuracy: 0.9955\n",
      "Epoch 48/100\n",
      "176/176 [==============================] - 0s 2ms/step - loss: 0.0250 - accuracy: 0.9852 - val_loss: 0.0129 - val_accuracy: 0.9955\n",
      "Epoch 49/100\n",
      "176/176 [==============================] - 0s 2ms/step - loss: 0.0279 - accuracy: 0.9863 - val_loss: 0.0127 - val_accuracy: 0.9955\n",
      "Epoch 50/100\n",
      "176/176 [==============================] - 0s 2ms/step - loss: 0.0230 - accuracy: 0.9886 - val_loss: 0.0149 - val_accuracy: 0.9909\n",
      "Epoch 51/100\n",
      "176/176 [==============================] - 0s 2ms/step - loss: 0.0266 - accuracy: 0.9863 - val_loss: 0.0134 - val_accuracy: 0.9955\n",
      "Epoch 52/100\n",
      "176/176 [==============================] - 0s 2ms/step - loss: 0.0253 - accuracy: 0.9840 - val_loss: 0.0128 - val_accuracy: 0.9955\n",
      "Epoch 53/100\n",
      "176/176 [==============================] - 0s 2ms/step - loss: 0.0237 - accuracy: 0.9875 - val_loss: 0.0147 - val_accuracy: 0.9909\n",
      "Epoch 54/100\n",
      "176/176 [==============================] - 0s 2ms/step - loss: 0.0265 - accuracy: 0.9852 - val_loss: 0.0137 - val_accuracy: 0.9955\n",
      "Epoch 55/100\n",
      "176/176 [==============================] - 0s 2ms/step - loss: 0.0271 - accuracy: 0.9863 - val_loss: 0.0136 - val_accuracy: 0.9955\n",
      "Epoch 56/100\n",
      "176/176 [==============================] - 1s 3ms/step - loss: 0.0252 - accuracy: 0.9886 - val_loss: 0.0130 - val_accuracy: 0.9955\n",
      "Epoch 57/100\n",
      "176/176 [==============================] - 1s 3ms/step - loss: 0.0260 - accuracy: 0.9852 - val_loss: 0.0121 - val_accuracy: 0.9955\n",
      "Epoch 58/100\n",
      "176/176 [==============================] - 0s 3ms/step - loss: 0.0280 - accuracy: 0.9875 - val_loss: 0.0141 - val_accuracy: 0.9955\n",
      "Epoch 59/100\n",
      "176/176 [==============================] - 0s 2ms/step - loss: 0.0245 - accuracy: 0.9840 - val_loss: 0.0128 - val_accuracy: 0.9955\n",
      "Epoch 60/100\n",
      "176/176 [==============================] - 0s 3ms/step - loss: 0.0277 - accuracy: 0.9875 - val_loss: 0.0128 - val_accuracy: 0.9955\n",
      "Epoch 61/100\n",
      "176/176 [==============================] - 0s 3ms/step - loss: 0.0256 - accuracy: 0.9863 - val_loss: 0.0135 - val_accuracy: 0.9955\n",
      "Epoch 62/100\n",
      "176/176 [==============================] - 0s 3ms/step - loss: 0.0263 - accuracy: 0.9886 - val_loss: 0.0138 - val_accuracy: 0.9955\n",
      "Epoch 63/100\n",
      "176/176 [==============================] - 0s 3ms/step - loss: 0.0281 - accuracy: 0.9852 - val_loss: 0.0146 - val_accuracy: 0.9909\n",
      "Epoch 64/100\n",
      "176/176 [==============================] - 0s 3ms/step - loss: 0.0259 - accuracy: 0.9875 - val_loss: 0.0126 - val_accuracy: 0.9955\n",
      "Epoch 65/100\n",
      "176/176 [==============================] - 0s 2ms/step - loss: 0.0265 - accuracy: 0.9840 - val_loss: 0.0121 - val_accuracy: 0.9955\n",
      "Epoch 66/100\n",
      "176/176 [==============================] - 0s 2ms/step - loss: 0.0264 - accuracy: 0.9840 - val_loss: 0.0123 - val_accuracy: 0.9955\n",
      "Epoch 67/100\n",
      "176/176 [==============================] - 0s 3ms/step - loss: 0.0255 - accuracy: 0.9909 - val_loss: 0.0129 - val_accuracy: 0.9955\n",
      "Epoch 68/100\n",
      "176/176 [==============================] - 0s 3ms/step - loss: 0.0249 - accuracy: 0.9852 - val_loss: 0.0131 - val_accuracy: 0.9955\n",
      "Epoch 69/100\n",
      "176/176 [==============================] - 0s 3ms/step - loss: 0.0257 - accuracy: 0.9863 - val_loss: 0.0120 - val_accuracy: 0.9955\n",
      "Epoch 70/100\n",
      "176/176 [==============================] - 0s 2ms/step - loss: 0.0254 - accuracy: 0.9840 - val_loss: 0.0124 - val_accuracy: 0.9955\n",
      "Epoch 71/100\n",
      "176/176 [==============================] - 0s 3ms/step - loss: 0.0269 - accuracy: 0.9840 - val_loss: 0.0132 - val_accuracy: 0.9955\n",
      "Epoch 72/100\n",
      "176/176 [==============================] - 0s 2ms/step - loss: 0.0297 - accuracy: 0.9840 - val_loss: 0.0121 - val_accuracy: 0.9955\n",
      "Epoch 73/100\n",
      "176/176 [==============================] - 0s 2ms/step - loss: 0.0238 - accuracy: 0.9886 - val_loss: 0.0130 - val_accuracy: 0.9955\n",
      "Epoch 74/100\n",
      "176/176 [==============================] - 0s 2ms/step - loss: 0.0257 - accuracy: 0.9863 - val_loss: 0.0128 - val_accuracy: 0.9955\n",
      "Epoch 75/100\n",
      "176/176 [==============================] - 0s 2ms/step - loss: 0.0246 - accuracy: 0.9875 - val_loss: 0.0127 - val_accuracy: 0.9955\n",
      "Epoch 76/100\n",
      "176/176 [==============================] - 0s 2ms/step - loss: 0.0228 - accuracy: 0.9875 - val_loss: 0.0131 - val_accuracy: 0.9909\n",
      "Epoch 77/100\n",
      "176/176 [==============================] - 0s 2ms/step - loss: 0.0264 - accuracy: 0.9829 - val_loss: 0.0123 - val_accuracy: 0.9955\n",
      "Epoch 78/100\n",
      "176/176 [==============================] - 0s 2ms/step - loss: 0.0253 - accuracy: 0.9863 - val_loss: 0.0123 - val_accuracy: 0.9955\n",
      "Epoch 79/100\n",
      "176/176 [==============================] - 0s 2ms/step - loss: 0.0243 - accuracy: 0.9886 - val_loss: 0.0125 - val_accuracy: 0.9955\n",
      "Epoch 80/100\n",
      "176/176 [==============================] - 0s 2ms/step - loss: 0.0247 - accuracy: 0.9875 - val_loss: 0.0134 - val_accuracy: 0.9955\n",
      "Epoch 81/100\n",
      "176/176 [==============================] - 0s 2ms/step - loss: 0.0248 - accuracy: 0.9897 - val_loss: 0.0125 - val_accuracy: 0.9955\n",
      "Epoch 82/100\n",
      "176/176 [==============================] - 0s 2ms/step - loss: 0.0241 - accuracy: 0.9863 - val_loss: 0.0121 - val_accuracy: 0.9955\n",
      "Epoch 83/100\n",
      "176/176 [==============================] - 0s 2ms/step - loss: 0.0246 - accuracy: 0.9852 - val_loss: 0.0126 - val_accuracy: 0.9955\n",
      "Epoch 84/100\n",
      "176/176 [==============================] - 0s 3ms/step - loss: 0.0246 - accuracy: 0.9863 - val_loss: 0.0138 - val_accuracy: 0.9955\n",
      "Epoch 85/100\n",
      "176/176 [==============================] - 0s 2ms/step - loss: 0.0265 - accuracy: 0.9852 - val_loss: 0.0118 - val_accuracy: 0.9955\n",
      "Epoch 86/100\n",
      "176/176 [==============================] - 0s 3ms/step - loss: 0.0271 - accuracy: 0.9852 - val_loss: 0.0116 - val_accuracy: 0.9955\n",
      "Epoch 87/100\n",
      "176/176 [==============================] - 0s 2ms/step - loss: 0.0241 - accuracy: 0.9852 - val_loss: 0.0120 - val_accuracy: 0.9955\n",
      "Epoch 88/100\n",
      "176/176 [==============================] - 0s 2ms/step - loss: 0.0249 - accuracy: 0.9863 - val_loss: 0.0125 - val_accuracy: 0.9955\n",
      "Epoch 89/100\n",
      "176/176 [==============================] - 0s 2ms/step - loss: 0.0253 - accuracy: 0.9852 - val_loss: 0.0133 - val_accuracy: 0.9955\n",
      "Epoch 90/100\n",
      "176/176 [==============================] - 0s 2ms/step - loss: 0.0241 - accuracy: 0.9909 - val_loss: 0.0119 - val_accuracy: 0.9955\n",
      "Epoch 91/100\n",
      "176/176 [==============================] - 0s 2ms/step - loss: 0.0295 - accuracy: 0.9840 - val_loss: 0.0118 - val_accuracy: 0.9955\n",
      "Epoch 92/100\n",
      "176/176 [==============================] - 0s 3ms/step - loss: 0.0252 - accuracy: 0.9863 - val_loss: 0.0125 - val_accuracy: 0.9955\n",
      "Epoch 93/100\n",
      "176/176 [==============================] - 1s 3ms/step - loss: 0.0241 - accuracy: 0.9875 - val_loss: 0.0113 - val_accuracy: 0.9955\n",
      "Epoch 94/100\n",
      "176/176 [==============================] - 0s 3ms/step - loss: 0.0261 - accuracy: 0.9840 - val_loss: 0.0113 - val_accuracy: 0.9955\n",
      "Epoch 95/100\n",
      "176/176 [==============================] - 0s 3ms/step - loss: 0.0225 - accuracy: 0.9840 - val_loss: 0.0146 - val_accuracy: 0.9909\n",
      "Epoch 96/100\n",
      "176/176 [==============================] - 0s 3ms/step - loss: 0.0253 - accuracy: 0.9897 - val_loss: 0.0126 - val_accuracy: 0.9955\n",
      "Epoch 97/100\n",
      "176/176 [==============================] - 1s 3ms/step - loss: 0.0244 - accuracy: 0.9852 - val_loss: 0.0121 - val_accuracy: 0.9955\n",
      "Epoch 98/100\n",
      "176/176 [==============================] - 1s 3ms/step - loss: 0.0266 - accuracy: 0.9875 - val_loss: 0.0119 - val_accuracy: 0.9955\n",
      "Epoch 99/100\n",
      "176/176 [==============================] - 1s 3ms/step - loss: 0.0258 - accuracy: 0.9886 - val_loss: 0.0135 - val_accuracy: 0.9955\n",
      "Epoch 100/100\n",
      "176/176 [==============================] - 1s 3ms/step - loss: 0.0224 - accuracy: 0.9909 - val_loss: 0.0125 - val_accuracy: 0.9955\n"
     ]
    }
   ],
   "source": [
    "import datetime\n",
    "batch_size = 5\n",
    "epochs = 100\n",
    "\n",
    "model.compile(loss=\"binary_crossentropy\", optimizer = keras.optimizers.Adam(learning_rate = 0.001), metrics=[\"accuracy\"])\n",
    "\n",
    "history = model.fit(X_train, Y_train, batch_size=batch_size, epochs=epochs, validation_split=0.2, verbose=1)"
   ]
  },
  {
   "cell_type": "code",
   "execution_count": 20,
   "id": "bbbc1c19",
   "metadata": {},
   "outputs": [
    {
     "name": "stdout",
     "output_type": "stream",
     "text": [
      "[0.6320343613624573, 0.33984026312828064, 0.17653252184391022, 0.10368112474679947, 0.07049085199832916, 0.055935122072696686, 0.05060337111353874, 0.04270710051059723, 0.04256216064095497, 0.03905809298157692, 0.037381064146757126, 0.03422180935740471, 0.034683067351579666, 0.0317249521613121, 0.03502194210886955, 0.031653113663196564, 0.029360629618167877, 0.030980389565229416, 0.030546709895133972, 0.030116919428110123, 0.030044859275221825, 0.03194350376725197, 0.03109022229909897, 0.02740456722676754, 0.029949085786938667, 0.029671434313058853, 0.026157934218645096, 0.025436025112867355, 0.026861220598220825, 0.023171283304691315, 0.027152065187692642, 0.027621952816843987, 0.02549796923995018, 0.025175604969263077, 0.026571160182356834, 0.030742932111024857, 0.029272781684994698, 0.02800995483994484, 0.025942351669073105, 0.026816507801413536, 0.02777993492782116, 0.025007445365190506, 0.026796942576766014, 0.025413798168301582, 0.026653772220015526, 0.029215823858976364, 0.027494067326188087, 0.02500775456428528, 0.02789924480021, 0.022952117025852203, 0.026582777500152588, 0.025334419682621956, 0.023705903440713882, 0.026530975475907326, 0.027129581198096275, 0.025174731388688087, 0.02595091052353382, 0.027981841936707497, 0.024514611810445786, 0.027687452733516693, 0.025585321709513664, 0.026259854435920715, 0.028097957372665405, 0.0258722472935915, 0.026477141305804253, 0.02644001506268978, 0.02547972835600376, 0.024854207411408424, 0.025742987170815468, 0.025374967604875565, 0.026905035600066185, 0.02969721332192421, 0.023759527131915092, 0.025707725435495377, 0.02461329661309719, 0.022779785096645355, 0.026425663381814957, 0.025319408625364304, 0.024256547912955284, 0.024699266999959946, 0.02480510249733925, 0.02411283366382122, 0.024598220363259315, 0.024571137502789497, 0.026470733806490898, 0.02714504301548004, 0.02407115511596203, 0.024947676807641983, 0.025331156328320503, 0.024105478078126907, 0.029502494260668755, 0.025189677253365517, 0.024147413671016693, 0.026085177436470985, 0.022544167935848236, 0.025342395529150963, 0.02438008412718773, 0.02659270353615284, 0.025832556188106537, 0.0223818589001894]\n"
     ]
    }
   ],
   "source": [
    "parameter_updates = history.history['loss']\n",
    "print(parameter_updates)"
   ]
  },
  {
   "cell_type": "code",
   "execution_count": 21,
   "id": "38746886",
   "metadata": {},
   "outputs": [
    {
     "name": "stdout",
     "output_type": "stream",
     "text": [
      "[array([[ 0.6228946 , -0.49300805,  0.3353868 ,  0.42964172,  0.8746694 ,\n",
      "         0.7754015 , -0.89175504,  0.61443204,  0.1074964 ,  0.7385975 ,\n",
      "        -0.35081485, -0.49741295, -0.48935202,  0.36399943,  0.5481587 ,\n",
      "        -0.6076441 , -0.5231    , -0.7127808 ,  0.70818955,  0.71731645,\n",
      "        -0.57066035,  0.52210397,  0.7494345 , -0.5450485 , -0.2032962 ],\n",
      "       [ 0.26675358, -0.40478826,  0.27140546,  0.28531262,  0.591145  ,\n",
      "         0.8167686 , -0.33717105,  0.5776198 ,  0.7861109 ,  0.16436419,\n",
      "        -0.90563905, -0.41653952, -0.4937494 ,  0.5010739 ,  0.7575328 ,\n",
      "        -0.43515605, -0.71516865, -0.6205915 ,  0.86119336,  0.77583325,\n",
      "        -0.5413979 ,  0.8616843 ,  0.37085038, -0.23081371, -0.80200624],\n",
      "       [ 0.26445305, -0.46545887,  0.04549919,  0.18284705,  0.6856161 ,\n",
      "         0.64743376, -0.6679703 ,  0.4034492 ,  0.44843024,  0.18082951,\n",
      "        -0.7004828 , -0.29888687, -0.7416453 ,  0.254237  ,  0.679604  ,\n",
      "        -0.46266112, -0.58364856, -0.61823255,  0.8228212 ,  0.7905589 ,\n",
      "        -0.5192715 ,  0.8007492 ,  0.24462785, -0.36504802, -0.6128409 ],\n",
      "       [-0.17032827,  0.13934228,  0.14373569,  0.12325385, -0.06244182,\n",
      "        -0.11196381,  0.34091428,  0.02259073,  0.22055243,  0.34416562,\n",
      "        -0.2640508 , -0.21097533, -0.25656447,  0.02816829, -0.26114348,\n",
      "         0.1403122 , -0.14936525,  0.0079935 ,  0.14923954,  0.0729014 ,\n",
      "        -0.12158702, -0.01602531, -0.37849718, -0.10779104, -0.0602192 ]],\n",
      "      dtype=float32), array([ 0.18413472, -0.1981897 ,  0.14421408,  0.1408576 ,  0.18200421,\n",
      "        0.2889191 , -0.19220707,  0.20125934,  0.25756827,  0.18010415,\n",
      "       -0.32185456, -0.26346526, -0.22467032,  0.20198166,  0.19192252,\n",
      "       -0.25049594, -0.33758345, -0.28629827,  0.36482817,  0.24648672,\n",
      "       -0.23001032,  0.31898898,  0.23112108, -0.22213557, -0.31158382],\n",
      "      dtype=float32), -0.082201116, -1.3915402, array([[-0.72610843,  0.5955164 ],\n",
      "       [ 0.8283801 , -0.96840876],\n",
      "       [-0.22655116,  0.09327883],\n",
      "       [-0.22231871, -0.11376857],\n",
      "       [-1.057215  ,  1.3231329 ],\n",
      "       [-0.70792216,  1.112147  ],\n",
      "       [ 0.8161063 , -0.8108516 ],\n",
      "       [-0.5263897 ,  0.85240465],\n",
      "       [-0.30621147,  0.92566174],\n",
      "       [-0.2669064 ,  0.22087935],\n",
      "       [ 1.4543748 , -0.97539127],\n",
      "       [ 0.32589677, -0.5098727 ],\n",
      "       [ 0.525496  , -0.5888328 ],\n",
      "       [-0.38185588,  0.16642056],\n",
      "       [-0.58568853,  0.94233245],\n",
      "       [ 1.388371  , -0.6557548 ],\n",
      "       [ 1.5730526 , -1.5615617 ],\n",
      "       [ 1.6296653 , -1.5234096 ],\n",
      "       [-1.4214826 ,  1.7774389 ],\n",
      "       [-1.738524  ,  1.2880757 ],\n",
      "       [ 0.938593  , -0.8127404 ],\n",
      "       [-1.4423227 ,  1.3776139 ],\n",
      "       [-0.34043884,  0.2740468 ],\n",
      "       [ 0.2814945 , -0.6855606 ],\n",
      "       [ 1.3168589 , -0.89617205]], dtype=float32), array([ 0.12502363, -0.10928865], dtype=float32)]\n"
     ]
    }
   ],
   "source": [
    "final_parameter_values = model.get_weights()\n",
    "print(final_parameter_values)"
   ]
  },
  {
   "cell_type": "code",
   "execution_count": 22,
   "id": "32278f07",
   "metadata": {},
   "outputs": [
    {
     "name": "stdout",
     "output_type": "stream",
     "text": [
      "179\n"
     ]
    }
   ],
   "source": [
    "total_parameters = model.count_params()\n",
    "print(total_parameters)"
   ]
  },
  {
   "cell_type": "code",
   "execution_count": 23,
   "id": "fc35f71f",
   "metadata": {},
   "outputs": [
    {
     "name": "stdout",
     "output_type": "stream",
     "text": [
      "Test loss: 0.015710528939962387\n",
      "Test accuracy: 0.996363639831543\n"
     ]
    }
   ],
   "source": [
    "score = model.evaluate(X_test, Y_test, verbose=0)\n",
    "print(\"Test loss:\", score[0])\n",
    "print(\"Test accuracy:\", score[1])"
   ]
  },
  {
   "cell_type": "code",
   "execution_count": 24,
   "id": "a06ff66f",
   "metadata": {},
   "outputs": [
    {
     "name": "stdout",
     "output_type": "stream",
     "text": [
      "AF coefficients (weights) [-0.082201116, -1.3915402]\n"
     ]
    }
   ],
   "source": [
    "print(\"AF coefficients (weights) {}\".format(act.get_weights()))"
   ]
  },
  {
   "cell_type": "code",
   "execution_count": 25,
   "id": "f0d95c17",
   "metadata": {},
   "outputs": [],
   "source": [
    "from sklearn.metrics import f1_score\n",
    "# training and test loss\n",
    "train_loss = history.history['loss']\n",
    "val_loss = history.history['val_loss']"
   ]
  },
  {
   "cell_type": "code",
   "execution_count": 26,
   "id": "4e65abd5",
   "metadata": {},
   "outputs": [
    {
     "name": "stdout",
     "output_type": "stream",
     "text": [
      "0.0223818589001894\n"
     ]
    }
   ],
   "source": [
    "print(train_loss[-1])"
   ]
  },
  {
   "cell_type": "code",
   "execution_count": 27,
   "id": "03604b8a",
   "metadata": {},
   "outputs": [],
   "source": [
    "train_accuracy = history.history['accuracy']\n",
    "val_accuracy = history.history['val_accuracy']"
   ]
  },
  {
   "cell_type": "code",
   "execution_count": 28,
   "id": "5e2890f0",
   "metadata": {},
   "outputs": [
    {
     "name": "stdout",
     "output_type": "stream",
     "text": [
      "0.9908779859542847\n"
     ]
    }
   ],
   "source": [
    "print(train_accuracy[-1])"
   ]
  },
  {
   "cell_type": "code",
   "execution_count": 29,
   "id": "e3d83c35",
   "metadata": {},
   "outputs": [
    {
     "name": "stdout",
     "output_type": "stream",
     "text": [
      "9/9 [==============================] - 0s 2ms/step\n"
     ]
    }
   ],
   "source": [
    "y_pred = model.predict(X_test)\n",
    "y_pred = np.argmax(y_pred, axis=1)"
   ]
  },
  {
   "cell_type": "code",
   "execution_count": 30,
   "id": "05dd7f77",
   "metadata": {},
   "outputs": [],
   "source": [
    "f1 = f1_score(np.argmax(Y_test, axis=1), y_pred, average='weighted')"
   ]
  },
  {
   "cell_type": "code",
   "execution_count": 31,
   "id": "78742bbd",
   "metadata": {},
   "outputs": [
    {
     "name": "stdout",
     "output_type": "stream",
     "text": [
      "Test loss: 0.015710528939962387\n",
      "Test accuracy: 0.996363639831543\n",
      "F1-Score: 0.9963656013017715\n"
     ]
    }
   ],
   "source": [
    "score = model.evaluate(X_test, Y_test, verbose=0)\n",
    "print(\"Test loss:\", score[0])\n",
    "print(\"Test accuracy:\", score[1])\n",
    "print(\"F1-Score:\", f1)"
   ]
  },
  {
   "cell_type": "code",
   "execution_count": 32,
   "id": "d1ed4158",
   "metadata": {},
   "outputs": [
    {
     "data": {
      "image/png": "[encoded data removed]",
      "text/plain": [
       "<Figure size 432x288 with 1 Axes>"
      ]
     },
     "metadata": {},
     "output_type": "display_data"
    }
   ],
   "source": [
    "# Plot of loss function vs. epochs\n",
    "plt.plot(range(1, epochs + 1), train_loss, label='Train Loss')\n",
    "plt.plot(range(1, epochs + 1), val_loss, label='Validation Loss')\n",
    "plt.xlabel('Epochs')\n",
    "plt.ylabel('Loss')\n",
    "plt.title('Loss Function vs. Epochs')\n",
    "plt.legend()\n",
    "plt.show()"
   ]
  },
  {
   "cell_type": "code",
   "execution_count": null,
   "id": "b7a340cc",
   "metadata": {},
   "outputs": [],
   "source": []
  }
 ],
 "metadata": {
  "kernelspec": {
   "display_name": "Python 3 (ipykernel)",
   "language": "python",
   "name": "python3"
  },
  "language_info": {
   "codemirror_mode": {
    "name": "ipython",
    "version": 3
   },
   "file_extension": ".py",
   "mimetype": "text/x-python",
   "name": "python",
   "nbconvert_exporter": "python",
   "pygments_lexer": "ipython3",
   "version": "3.9.12"
  }
 },
 "nbformat": 4,
 "nbformat_minor": 5
}
