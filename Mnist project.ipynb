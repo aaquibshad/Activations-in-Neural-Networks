{
 "cells": [
  {
   "cell_type": "code",
   "execution_count": 1,
   "id": "f51678de",
   "metadata": {},
   "outputs": [],
   "source": [
    "#mnist\n",
    "import os\n",
    "import numpy as np\n",
    "import tensorflow as tf\n",
    "from tensorflow import keras\n",
    "from tensorflow.keras import layers\n",
    "from sklearn.metrics import f1_score\n",
    "import matplotlib.pyplot as plt"
   ]
  },
  {
   "cell_type": "code",
   "execution_count": 2,
   "id": "4372a6db",
   "metadata": {},
   "outputs": [],
   "source": [
    "initializer0 = keras.initializers. RandomUniform(minval = -1, maxval =2)\n",
    "initializer1 = keras.initializers. RandomUniform(minval = -1, maxval =2)\n",
    "\n",
    "class Adaact(keras.layers.Layer):\n",
    "    def __init__(self):\n",
    "        super(Adaact, self).__init__()\n",
    "        self.k0 = self.add_weight(name='k0', shape = (), initializer=initializer0, trainable=True)\n",
    "        self.k1 = self.add_weight(name='k1', shape = (), initializer=initializer1, trainable=True)\n",
    "        \n",
    "    def call(self, inputs):\n",
    "        return self.k0 + tf.multiply(inputs, self.k1)"
   ]
  },
  {
   "cell_type": "code",
   "execution_count": 3,
   "id": "985c6089",
   "metadata": {},
   "outputs": [
    {
     "name": "stdout",
     "output_type": "stream",
     "text": [
      "x_train shape: (60000, 28, 28, 1)\n",
      "60000 train samples\n",
      "10000 test samples\n"
     ]
    }
   ],
   "source": [
    "num_classes = 10\n",
    "input_shape = (28, 28, 1)\n",
    "\n",
    "# the data, split between train and test sets\n",
    "(x_train, y_train), (x_test, y_test) = keras.datasets.mnist.load_data()\n",
    "\n",
    "# Scale images to the [0, 1] range\n",
    "x_train = x_train.astype(\"float32\") / 255\n",
    "x_test = x_test.astype(\"float32\") / 255\n",
    "# Make sure images have shape (28, 28, 1)\n",
    "x_train = np.expand_dims(x_train, -1)\n",
    "x_test = np.expand_dims(x_test, -1)\n",
    "print(\"x_train shape:\", x_train.shape)\n",
    "print(x_train.shape[0], \"train samples\")\n",
    "print(x_test.shape[0], \"test samples\")\n"
   ]
  },
  {
   "cell_type": "code",
   "execution_count": 4,
   "id": "a58774e7",
   "metadata": {},
   "outputs": [],
   "source": [
    "# convert class vectors to binary class matrices\n",
    "y_train = keras.utils.to_categorical(y_train, num_classes)\n",
    "y_test = keras.utils.to_categorical(y_test, num_classes)"
   ]
  },
  {
   "cell_type": "code",
   "execution_count": 5,
   "id": "8a7d623c",
   "metadata": {},
   "outputs": [
    {
     "name": "stdout",
     "output_type": "stream",
     "text": [
      "Model: \"mnist_adaact\"\n",
      "__________________________________________________________________________________________________\n",
      " Layer (type)                   Output Shape         Param #     Connected to                     \n",
      "==================================================================================================\n",
      " input_1 (InputLayer)           [(None, 28, 28, 1)]  0           []                               \n",
      "                                                                                                  \n",
      " conv2d (Conv2D)                (None, 26, 26, 32)   320         ['input_1[0][0]']                \n",
      "                                                                                                  \n",
      " adaact (Adaact)                multiple             2           ['conv2d[0][0]',                 \n",
      "                                                                  'conv2d_1[0][0]']               \n",
      "                                                                                                  \n",
      " max_pooling2d (MaxPooling2D)   (None, 13, 13, 32)   0           ['adaact[0][0]']                 \n",
      "                                                                                                  \n",
      " conv2d_1 (Conv2D)              (None, 11, 11, 64)   18496       ['max_pooling2d[0][0]']          \n",
      "                                                                                                  \n",
      " max_pooling2d_1 (MaxPooling2D)  (None, 5, 5, 64)    0           ['adaact[1][0]']                 \n",
      "                                                                                                  \n",
      " flatten (Flatten)              (None, 1600)         0           ['max_pooling2d_1[0][0]']        \n",
      "                                                                                                  \n",
      " dropout (Dropout)              (None, 1600)         0           ['flatten[0][0]']                \n",
      "                                                                                                  \n",
      " dense (Dense)                  (None, 10)           16010       ['dropout[0][0]']                \n",
      "                                                                                                  \n",
      "==================================================================================================\n",
      "Total params: 34,828\n",
      "Trainable params: 34,828\n",
      "Non-trainable params: 0\n",
      "__________________________________________________________________________________________________\n"
     ]
    }
   ],
   "source": [
    "inputs = keras.Input(shape=input_shape)\n",
    "x = layers.Conv2D(32, kernel_size=(3, 3))(inputs)\n",
    "adaact = Adaact()\n",
    "x = adaact(x)\n",
    "x = layers.MaxPooling2D(pool_size=(2, 2))(x)\n",
    "x = layers.Conv2D(64, kernel_size=(3, 3))(x)\n",
    "x = adaact(x)\n",
    "x = layers.MaxPooling2D(pool_size=(2, 2))(x)\n",
    "x = layers.Flatten()(x)\n",
    "x = layers.Dropout(0.5)(x)\n",
    "outputs = layers.Dense(num_classes, activation=\"softmax\")(x)\n",
    "\n",
    "model = keras.Model(inputs=inputs, outputs=outputs, name=\"mnist_adaact\")\n",
    "model.summary()"
   ]
  },
  {
   "cell_type": "code",
   "execution_count": 6,
   "id": "c2e5d9ba",
   "metadata": {},
   "outputs": [
    {
     "name": "stdout",
     "output_type": "stream",
     "text": [
      "Epoch 1/15\n",
      "422/422 [==============================] - 39s 89ms/step - loss: 0.8087 - accuracy: 0.7358 - val_loss: 0.1922 - val_accuracy: 0.9463\n",
      "Epoch 2/15\n",
      "422/422 [==============================] - 43s 102ms/step - loss: 0.2315 - accuracy: 0.9311 - val_loss: 0.1085 - val_accuracy: 0.9720\n",
      "Epoch 3/15\n",
      "422/422 [==============================] - 43s 103ms/step - loss: 0.1555 - accuracy: 0.9536 - val_loss: 0.0840 - val_accuracy: 0.9775\n",
      "Epoch 4/15\n",
      "422/422 [==============================] - 42s 101ms/step - loss: 0.1204 - accuracy: 0.9632 - val_loss: 0.0679 - val_accuracy: 0.9820\n",
      "Epoch 5/15\n",
      "422/422 [==============================] - 44s 104ms/step - loss: 0.1006 - accuracy: 0.9700 - val_loss: 0.0632 - val_accuracy: 0.9812\n",
      "Epoch 6/15\n",
      "422/422 [==============================] - 41s 97ms/step - loss: 0.0886 - accuracy: 0.9726 - val_loss: 0.0594 - val_accuracy: 0.9835\n",
      "Epoch 7/15\n",
      "422/422 [==============================] - 41s 98ms/step - loss: 0.0828 - accuracy: 0.9746 - val_loss: 0.0540 - val_accuracy: 0.9842\n",
      "Epoch 8/15\n",
      "422/422 [==============================] - 41s 96ms/step - loss: 0.0756 - accuracy: 0.9757 - val_loss: 0.0499 - val_accuracy: 0.9857\n",
      "Epoch 9/15\n",
      "422/422 [==============================] - 41s 96ms/step - loss: 0.0725 - accuracy: 0.9775 - val_loss: 0.0555 - val_accuracy: 0.9850\n",
      "Epoch 10/15\n",
      "422/422 [==============================] - 41s 97ms/step - loss: 0.0666 - accuracy: 0.9789 - val_loss: 0.0497 - val_accuracy: 0.9853\n",
      "Epoch 11/15\n",
      "422/422 [==============================] - 42s 99ms/step - loss: 0.0631 - accuracy: 0.9804 - val_loss: 0.0510 - val_accuracy: 0.9853\n",
      "Epoch 12/15\n",
      "422/422 [==============================] - 42s 99ms/step - loss: 0.0633 - accuracy: 0.9804 - val_loss: 0.0434 - val_accuracy: 0.9865\n",
      "Epoch 13/15\n",
      "422/422 [==============================] - 42s 99ms/step - loss: 0.0570 - accuracy: 0.9820 - val_loss: 0.0468 - val_accuracy: 0.9865\n",
      "Epoch 14/15\n",
      "422/422 [==============================] - 42s 100ms/step - loss: 0.0581 - accuracy: 0.9815 - val_loss: 0.0426 - val_accuracy: 0.9877\n",
      "Epoch 15/15\n",
      "422/422 [==============================] - 42s 99ms/step - loss: 0.0545 - accuracy: 0.9823 - val_loss: 0.0432 - val_accuracy: 0.9888\n"
     ]
    }
   ],
   "source": [
    "batch_size = 128\n",
    "epochs = 15\n",
    "\n",
    "model.compile(loss=\"categorical_crossentropy\", optimizer=\"adam\", metrics=[\"accuracy\"])\n",
    "\n",
    "history=model.fit(x_train, y_train, batch_size=batch_size, epochs=epochs, validation_split=0.1)"
   ]
  },
  {
   "cell_type": "code",
   "execution_count": 7,
   "id": "7524d8cd",
   "metadata": {},
   "outputs": [
    {
     "name": "stdout",
     "output_type": "stream",
     "text": [
      "[array([[[[ 0.04614351, -0.15337645, -0.44417503, -0.2000727 ,\n",
      "          -0.26007727,  0.11292941,  0.01798262,  0.03965599,\n",
      "           0.28032154,  0.11859091, -0.3575191 ,  0.2776683 ,\n",
      "          -0.17147294,  0.2076609 ,  0.03140024,  0.09550359,\n",
      "          -0.42471477,  0.03436588, -0.13722982,  0.11369082,\n",
      "           0.19740145,  0.15212624, -0.11498109,  0.12352782,\n",
      "           0.18642916, -0.07347155,  0.22125684,  0.25303644,\n",
      "          -0.00639412, -0.6722644 , -0.22953983,  0.0271335 ]],\n",
      "\n",
      "        [[ 0.04852657, -0.18963152, -0.01036845,  0.06030878,\n",
      "           0.17510045,  0.28780097,  0.08642269, -0.00350201,\n",
      "          -0.00936299,  0.5210316 , -0.05245963,  0.13669091,\n",
      "          -0.3070349 ,  0.28979173,  0.00813776,  0.13592531,\n",
      "          -0.3675191 ,  0.05879624, -0.4435545 , -0.17015411,\n",
      "           0.06386069,  0.02780399,  0.18246576, -0.19863288,\n",
      "          -0.26386392,  0.08456507,  0.11507017, -0.12218728,\n",
      "           0.03072133, -0.42818567, -0.12996396, -0.16385145]],\n",
      "\n",
      "        [[ 0.03254221, -0.15791245, -0.02024878,  0.08322578,\n",
      "           0.6521528 , -0.05068685,  0.09893492,  0.02072524,\n",
      "          -0.22546244, -0.00275239,  0.12029278,  0.18011883,\n",
      "           0.07974067,  0.34144107,  0.05946641,  0.1545927 ,\n",
      "          -0.24711046,  0.17443225, -0.6471544 , -0.14007463,\n",
      "           0.0796996 , -0.34966072, -0.08381369, -0.29287183,\n",
      "          -0.36262503,  0.10494458,  0.06645974, -0.22992863,\n",
      "           0.11809477,  0.32875666,  0.37743214, -0.22580057]]],\n",
      "\n",
      "\n",
      "       [[[ 0.14930137,  0.05608492, -0.04571327,  0.13556726,\n",
      "          -0.34519202, -0.00686787,  0.15724038,  0.19165216,\n",
      "           0.1785512 ,  0.4419819 ,  0.23318793,  0.3191113 ,\n",
      "           0.11416445, -0.17736404,  0.02596237, -0.1018775 ,\n",
      "          -0.18928036, -0.0216719 ,  0.278416  ,  0.17933974,\n",
      "           0.09469374, -0.15049513, -0.07293191,  0.46508312,\n",
      "          -0.3466226 ,  0.03595485,  0.14818816, -0.1092881 ,\n",
      "           0.17167754, -0.31664684, -0.32378206,  0.21258299]],\n",
      "\n",
      "        [[-0.00862825, -0.3203957 ,  0.37735027, -0.01245803,\n",
      "          -0.22819202,  0.1060163 , -0.03065901,  0.1389792 ,\n",
      "          -0.24045032,  0.1976173 ,  0.456036  ,  0.3291886 ,\n",
      "          -0.38145837, -0.19697337,  0.04451489,  0.17437358,\n",
      "          -0.03805445,  0.02491898,  0.22094741,  0.24115886,\n",
      "          -0.02381207,  0.41572186,  0.14620458,  0.12558073,\n",
      "          -0.43270925,  0.02864415,  0.02905268, -0.18935868,\n",
      "           0.18956493,  0.52452326, -0.12494315, -0.16803114]],\n",
      "\n",
      "        [[ 0.12221195,  0.00334293,  0.06537326,  0.05084467,\n",
      "           0.32214558,  0.02802109,  0.14830974,  0.07209207,\n",
      "          -0.28350753, -0.2305067 ,  0.23471576,  0.14683117,\n",
      "          -0.19295482, -0.11344272,  0.01153581,  0.08644329,\n",
      "           0.17355227,  0.03833616, -0.2695771 ,  0.26091665,\n",
      "           0.14775738,  0.6262489 , -0.02539745,  0.10853703,\n",
      "           0.15373552,  0.0734562 ,  0.1766759 , -0.15311351,\n",
      "           0.10849319,  0.50992244,  0.47609618, -0.22257146]]],\n",
      "\n",
      "\n",
      "       [[[ 0.11970069,  0.01739562,  0.38333917,  0.14434558,\n",
      "           0.04192238,  0.1716239 , -0.09242945, -0.03391291,\n",
      "           0.03974453,  0.26120567,  0.12366455, -0.5227758 ,\n",
      "           0.30423135, -0.2305333 ,  0.14367372, -0.13566855,\n",
      "           0.5016698 ,  0.12407829,  0.54590523, -0.26612374,\n",
      "           0.10279236, -0.4211723 ,  0.15928455,  0.00994304,\n",
      "          -0.23038262,  0.13055453,  0.14250313,  0.03215962,\n",
      "          -0.00106356,  0.47377583, -0.33841714,  0.17447937]],\n",
      "\n",
      "        [[ 0.0643501 , -0.15343916,  0.3774271 ,  0.11296717,\n",
      "          -0.42154393,  0.18718782,  0.11508179, -0.09240399,\n",
      "          -0.24758953, -0.20200957,  0.01528142, -0.41409856,\n",
      "           0.0398216 , -0.24993663,  0.04135991, -0.00198382,\n",
      "           0.49884036,  0.09832029,  0.42982396,  0.06927684,\n",
      "           0.03275354,  0.14123492,  0.08188191,  0.14503282,\n",
      "           0.3676994 ,  0.15971093,  0.17112067,  0.05116551,\n",
      "          -0.01602223,  0.38242742, -0.13835277, -0.14681774]],\n",
      "\n",
      "        [[ 0.20273879,  0.1894194 , -0.04485177,  0.1895384 ,\n",
      "          -0.1948029 , -0.1836697 , -0.11469787,  0.08931438,\n",
      "          -0.19207832, -0.47138798, -0.34570587, -0.00348136,\n",
      "           0.04017035, -0.28285453,  0.19407511,  0.07118552,\n",
      "           0.1623658 ,  0.0199086 ,  0.4316722 ,  0.09421319,\n",
      "           0.08546688,  0.3065488 , -0.05051925,  0.25569892,\n",
      "           0.48206365,  0.14436418,  0.11185794, -0.03993215,\n",
      "          -0.19509469, -0.01225464,  0.47164276,  0.00320323]]]],\n",
      "      dtype=float32), array([-0.05044333,  0.12584901,  0.08422545,  0.01212811,  0.14046529,\n",
      "        0.00683379,  0.00937388, -0.00984508,  0.10922687,  0.13415785,\n",
      "        0.05622292,  0.10718569,  0.20609522,  0.17248863, -0.01944562,\n",
      "       -0.01165531,  0.1242132 ,  0.00182975,  0.13850714,  0.0598682 ,\n",
      "       -0.00402969,  0.10987151,  0.06479939,  0.00552504,  0.17051908,\n",
      "       -0.04499818, -0.03256533,  0.10460421,  0.00956314,  0.18637349,\n",
      "        0.10037669,  0.17006832], dtype=float32), 0.08780917, -0.83886194, array([[[[-1.94858499e-02,  4.21634316e-02,  7.01834187e-02, ...,\n",
      "           9.94057804e-02,  1.30315319e-01, -2.31044311e-02],\n",
      "         [ 3.22929025e-02,  1.63471684e-01, -1.21100761e-01, ...,\n",
      "           6.74604774e-02,  1.59767848e-02,  3.65705341e-02],\n",
      "         [ 1.93949901e-02,  1.50275026e-02,  1.73106611e-01, ...,\n",
      "           4.59279753e-02, -7.87184462e-02,  3.40929553e-02],\n",
      "         ...,\n",
      "         [ 3.40360380e-03,  5.22694327e-02,  1.84789766e-02, ...,\n",
      "          -3.11786216e-02, -2.88520399e-02,  5.24085807e-03],\n",
      "         [-1.07795484e-02, -5.87983653e-02, -4.73918170e-02, ...,\n",
      "          -1.36386544e-01,  1.86429292e-01, -1.64317012e-01],\n",
      "         [ 6.31500185e-02,  1.12708576e-01, -1.49766371e-01, ...,\n",
      "          -2.13969275e-02,  4.95410226e-02,  1.01828590e-01]],\n",
      "\n",
      "        [[-2.41422709e-02, -6.30278960e-02,  1.37312803e-02, ...,\n",
      "           1.41008971e-02,  4.53212559e-02, -1.41552463e-01],\n",
      "         [-4.99130599e-02, -4.39396128e-03, -8.76055658e-02, ...,\n",
      "           6.51224330e-02,  2.11748425e-02,  1.42924652e-01],\n",
      "         [ 5.84834069e-02, -6.67457953e-02,  8.69657099e-02, ...,\n",
      "           6.36651972e-03,  5.45899458e-02, -1.10549606e-01],\n",
      "         ...,\n",
      "         [-9.51476917e-02, -1.64550200e-01,  4.84199151e-02, ...,\n",
      "          -6.79040998e-02,  3.70700918e-02, -7.58390948e-02],\n",
      "         [-5.72646782e-02, -2.04641502e-02, -5.26103191e-02, ...,\n",
      "          -6.54797181e-02, -1.24573268e-01,  1.87239312e-02],\n",
      "         [-2.00040415e-02,  3.49931046e-02, -5.36794290e-02, ...,\n",
      "           6.83786049e-02,  1.78735703e-02,  3.73894982e-02]],\n",
      "\n",
      "        [[ 9.62795317e-02,  1.25326335e-01,  9.85788777e-02, ...,\n",
      "           6.62287027e-02, -5.11765443e-02,  9.40843374e-02],\n",
      "         [-8.01140070e-02, -9.67268422e-02,  5.09869643e-02, ...,\n",
      "           1.17598921e-01,  7.07287788e-02, -1.80718657e-02],\n",
      "         [ 4.88515347e-02, -7.31944293e-02, -1.31274424e-02, ...,\n",
      "          -3.76550220e-02, -2.46715266e-03,  1.27181262e-01],\n",
      "         ...,\n",
      "         [-1.05854876e-01, -1.52807161e-01,  5.70066683e-02, ...,\n",
      "          -6.04842864e-02, -8.68353099e-02, -4.15812768e-02],\n",
      "         [ 1.92616120e-01,  3.06289177e-02,  1.23429745e-01, ...,\n",
      "          -2.16480661e-02, -9.98198316e-02, -5.62365241e-02],\n",
      "         [-9.22140181e-02, -1.02477923e-01,  3.23610604e-02, ...,\n",
      "          -4.48326729e-02,  1.55081257e-01, -1.13856681e-01]]],\n",
      "\n",
      "\n",
      "       [[[-1.04020583e-04, -6.61974400e-02, -1.30668767e-02, ...,\n",
      "           4.77035455e-02, -8.94931927e-02, -4.43543717e-02],\n",
      "         [-6.75338209e-02,  2.06924677e-02,  4.80912812e-02, ...,\n",
      "           1.63277276e-02, -2.64500342e-02, -2.85363272e-02],\n",
      "         [ 1.35388402e-02, -5.16948067e-02, -3.42088612e-03, ...,\n",
      "           9.37604010e-02,  1.09322397e-02,  9.04546008e-02],\n",
      "         ...,\n",
      "         [-1.05165588e-02,  4.06212024e-02, -7.84664899e-02, ...,\n",
      "           2.09646057e-02, -4.17353511e-02, -2.72952523e-02],\n",
      "         [ 9.44663957e-02,  1.77795477e-02,  9.27920565e-02, ...,\n",
      "          -4.24492285e-02,  6.29229099e-02, -1.76455379e-01],\n",
      "         [-3.94962244e-02, -3.74572873e-02, -6.28123060e-02, ...,\n",
      "           1.02624975e-01,  5.39793856e-02,  8.63394216e-02]],\n",
      "\n",
      "        [[ 2.67116167e-02,  1.51087940e-01, -1.40672401e-01, ...,\n",
      "           1.06503621e-01,  1.34098634e-01,  5.28902709e-02],\n",
      "         [ 4.68042567e-02, -6.97363820e-03,  6.00763410e-02, ...,\n",
      "           1.85461655e-01,  3.95611078e-02,  6.78855088e-03],\n",
      "         [ 1.18039802e-01,  5.20606786e-02, -1.56576693e-01, ...,\n",
      "           1.13435322e-02,  1.38442904e-01,  3.26823518e-02],\n",
      "         ...,\n",
      "         [ 1.70936227e-01, -1.86138794e-01, -1.15792401e-01, ...,\n",
      "          -3.69434394e-02,  1.00687608e-01,  8.43355581e-02],\n",
      "         [ 2.26565022e-02, -6.18878305e-02,  9.23814550e-02, ...,\n",
      "           6.17162473e-02,  3.70313451e-02,  7.71079436e-02],\n",
      "         [ 2.97342543e-03, -6.78146556e-02,  4.31980565e-03, ...,\n",
      "           2.79257856e-02,  5.13406582e-02,  6.77250326e-02]],\n",
      "\n",
      "        [[ 5.72887175e-02,  8.25533122e-02,  9.66120511e-03, ...,\n",
      "          -7.19092712e-02,  1.20806210e-02,  1.38881877e-01],\n",
      "         [-7.80983791e-02,  5.39930761e-02,  9.12105888e-02, ...,\n",
      "           1.55571476e-01, -5.71698770e-02, -6.97029680e-02],\n",
      "         [ 1.31040081e-01,  1.76410191e-02, -5.10317497e-02, ...,\n",
      "           4.20467667e-02,  1.36463612e-01,  4.84373495e-02],\n",
      "         ...,\n",
      "         [-1.65709153e-01, -1.86888263e-01, -7.63997585e-02, ...,\n",
      "          -2.31803209e-02,  6.55041188e-02,  5.48077486e-02],\n",
      "         [ 1.23231141e-02, -1.42859399e-01,  1.62633553e-01, ...,\n",
      "          -7.35021336e-03, -1.47272795e-01, -1.98157504e-02],\n",
      "         [ 4.31613363e-02,  8.43453854e-02,  1.12714745e-01, ...,\n",
      "           1.25901448e-02,  7.13700503e-02, -9.16755348e-02]]],\n",
      "\n",
      "\n",
      "       [[[-2.87540518e-02,  8.45528021e-02, -7.85795376e-02, ...,\n",
      "           6.65889978e-02, -2.22544316e-02, -3.81189026e-02],\n",
      "         [ 1.33372948e-01,  4.69927415e-02,  5.92305623e-02, ...,\n",
      "          -1.30616373e-03,  7.43631506e-03,  9.44998786e-02],\n",
      "         [ 4.66623381e-02,  1.98326074e-02, -5.28031588e-02, ...,\n",
      "           7.46084675e-02,  2.30717976e-02, -2.44622722e-01],\n",
      "         ...,\n",
      "         [ 9.81456637e-02, -2.21198145e-02, -1.17050044e-01, ...,\n",
      "           1.71995744e-01, -1.11000612e-02, -1.99859247e-01],\n",
      "         [ 9.96614248e-02, -3.68361101e-02,  1.31903872e-01, ...,\n",
      "           8.05027634e-02, -2.41293758e-01, -1.72654733e-01],\n",
      "         [ 1.03400461e-01,  2.34314874e-02, -2.83005610e-02, ...,\n",
      "           4.09816913e-02,  6.37466460e-02,  1.02017708e-02]],\n",
      "\n",
      "        [[-4.10184972e-02,  3.06395143e-02, -9.27458331e-02, ...,\n",
      "           9.01080072e-02, -9.97750834e-02, -1.29600272e-01],\n",
      "         [ 9.18853506e-02, -6.76983520e-02, -1.80077385e-02, ...,\n",
      "          -3.14294621e-02,  1.69294819e-01,  8.36654902e-02],\n",
      "         [ 8.08316283e-03, -1.03714958e-01, -7.29258657e-02, ...,\n",
      "           9.95939225e-02,  2.17009126e-03, -4.81138490e-02],\n",
      "         ...,\n",
      "         [ 5.61515987e-02, -1.26591057e-01, -1.15434729e-01, ...,\n",
      "           1.24210129e-02,  3.27712484e-02, -4.39701416e-03],\n",
      "         [ 1.54822484e-01,  5.63084222e-02,  1.79041639e-01, ...,\n",
      "           1.60981536e-01,  1.02433875e-01, -1.38860032e-01],\n",
      "         [ 1.62275374e-01,  8.66214782e-02,  9.14110020e-02, ...,\n",
      "          -1.91129912e-02,  1.53119892e-01,  1.05796292e-01]],\n",
      "\n",
      "        [[-8.47304016e-02, -9.93670896e-02,  4.58054543e-02, ...,\n",
      "           7.75680169e-02,  3.85467857e-02, -4.87730727e-02],\n",
      "         [ 1.55203864e-01,  3.39114740e-02, -3.58868553e-03, ...,\n",
      "           1.02524541e-01,  5.34298420e-02, -8.79801139e-02],\n",
      "         [-6.06188215e-02,  3.31753073e-03,  1.01812430e-01, ...,\n",
      "           7.34276399e-02, -2.87734601e-03,  3.44591998e-02],\n",
      "         ...,\n",
      "         [-2.32527927e-01, -4.42360155e-02,  1.30200073e-01, ...,\n",
      "           1.85884312e-02,  1.73027981e-02,  8.57536644e-02],\n",
      "         [ 1.52753606e-01, -1.00989446e-01,  5.20962551e-02, ...,\n",
      "           1.06775679e-01,  8.85445103e-02, -1.43738031e-01],\n",
      "         [ 1.60828426e-01,  1.28584802e-01,  5.35600632e-02, ...,\n",
      "           2.57384200e-02,  3.19206156e-02, -4.43253927e-02]]]],\n",
      "      dtype=float32), array([ 0.05662647,  0.08396754,  0.01175484,  0.04258975,  0.13047145,\n",
      "        0.08255976,  0.00484302,  0.06302525,  0.04516601,  0.014177  ,\n",
      "        0.06603251,  0.02204314,  0.09137106,  0.0608322 ,  0.04872306,\n",
      "        0.04715228,  0.03040425,  0.11196619,  0.01767413, -0.04671751,\n",
      "        0.03118793,  0.07587218,  0.08324441,  0.09462688,  0.06207255,\n",
      "        0.03214977, -0.01711361,  0.15281762,  0.05313782,  0.00590171,\n",
      "        0.05709876,  0.04733874,  0.09278527,  0.04201665,  0.01266679,\n",
      "        0.09510259,  0.04138621,  0.07679628,  0.06609937,  0.07863057,\n",
      "        0.04863936,  0.09058471,  0.03653211,  0.04512751,  0.08860736,\n",
      "        0.05889834,  0.08996399,  0.03763665,  0.10897599,  0.12384034,\n",
      "        0.07238583,  0.11474504,  0.09564216,  0.0734328 ,  0.04170097,\n",
      "        0.1052949 ,  0.03857335,  0.06708119,  0.0586544 ,  0.03840887,\n",
      "        0.10765454,  0.06910416,  0.07273169,  0.0678056 ], dtype=float32), array([[-0.02063727, -0.03296911,  0.04911504, ..., -0.01848829,\n",
      "         0.01452597,  0.10667513],\n",
      "       [-0.01303188, -0.04606088, -0.02243672, ...,  0.02021387,\n",
      "        -0.05758728,  0.05916102],\n",
      "       [ 0.07284118,  0.03324396,  0.09418157, ...,  0.01525731,\n",
      "         0.06609669, -0.0945195 ],\n",
      "       ...,\n",
      "       [-0.03200883,  0.08384977,  0.1191831 , ..., -0.14447705,\n",
      "        -0.04163278,  0.10826311],\n",
      "       [-0.26032457,  0.10606904,  0.2203246 , ..., -0.03608664,\n",
      "        -0.19012704,  0.10462442],\n",
      "       [ 0.05114481, -0.01807907, -0.01913012, ..., -0.04595811,\n",
      "         0.06073295, -0.0231314 ]], dtype=float32), array([ 0.02038968,  0.05251429,  0.14914764, -0.08653336, -0.00604434,\n",
      "        0.013713  , -0.05445507,  0.0750097 , -0.00269254, -0.1479465 ],\n",
      "      dtype=float32)]\n"
     ]
    }
   ],
   "source": [
    "# final parameter values at the end of training\n",
    "final_parameter_values = model.get_weights()\n",
    "print(final_parameter_values)"
   ]
  },
  {
   "cell_type": "code",
   "execution_count": 8,
   "id": "369a2389",
   "metadata": {},
   "outputs": [
    {
     "name": "stdout",
     "output_type": "stream",
     "text": [
      "AF coefficients (weights) [0.08780917, -0.83886194]\n"
     ]
    }
   ],
   "source": [
    "print(\"AF coefficients (weights) {}\".format(adaact.get_weights()))"
   ]
  },
  {
   "cell_type": "code",
   "execution_count": 9,
   "id": "230d5a8c",
   "metadata": {},
   "outputs": [
    {
     "name": "stdout",
     "output_type": "stream",
     "text": [
      "Test loss: 0.038563963025808334\n",
      "Test accuracy: 0.9871000051498413\n"
     ]
    }
   ],
   "source": [
    "# Obtain test loss and test accuracy\n",
    "score = model.evaluate(x_test, y_test, verbose=0)\n",
    "print(\"Test loss:\", score[0])\n",
    "print(\"Test accuracy:\", score[1])"
   ]
  },
  {
   "cell_type": "code",
   "execution_count": 10,
   "id": "9f193219",
   "metadata": {},
   "outputs": [
    {
     "name": "stdout",
     "output_type": "stream",
     "text": [
      "train loss: 0.029655851423740387\n",
      "train accuracy: 0.9916166663169861\n"
     ]
    }
   ],
   "source": [
    "score = model.evaluate(x_train, y_train, verbose=0)\n",
    "print(\"train loss:\", score[0])\n",
    "print(\"train accuracy:\", score[1])"
   ]
  },
  {
   "cell_type": "code",
   "execution_count": 11,
   "id": "7d84148c",
   "metadata": {},
   "outputs": [
    {
     "name": "stdout",
     "output_type": "stream",
     "text": [
      "313/313 [==============================] - 3s 8ms/step\n"
     ]
    }
   ],
   "source": [
    "y_pred = model.predict(x_test)\n",
    "y_pred = np.argmax(y_pred, axis=1)\n",
    "y_true = np.argmax(y_test, axis=1)"
   ]
  },
  {
   "cell_type": "code",
   "execution_count": 12,
   "id": "466d9d16",
   "metadata": {},
   "outputs": [
    {
     "name": "stdout",
     "output_type": "stream",
     "text": [
      "f1 score is 0.987096857315104\n"
     ]
    }
   ],
   "source": [
    "f1 = f1_score(y_true, y_pred, average='weighted')\n",
    "print(\"f1 score is {}\".format(f1))"
   ]
  },
  {
   "cell_type": "code",
   "execution_count": 13,
   "id": "22f91e0d",
   "metadata": {},
   "outputs": [
    {
     "data": {
      "image/png": "[encoded data removed]",
      "text/plain": [
       "<Figure size 432x288 with 1 Axes>"
      ]
     },
     "metadata": {
      "needs_background": "light"
     },
     "output_type": "display_data"
    }
   ],
   "source": [
    "train_loss = history.history['loss']\n",
    "test_loss = history.history['val_loss']\n",
    "plt.plot(range(1, epochs+1), train_loss, label='Train Loss')\n",
    "plt.plot(range(1, epochs+1), test_loss, label='Test Loss')\n",
    "plt.xlabel('Epochs')\n",
    "plt.ylabel('Loss')\n",
    "plt.title('Loss Function vs. Epochs')\n",
    "plt.legend()\n",
    "plt.show()"
   ]
  },
  {
   "cell_type": "code",
   "execution_count": null,
   "id": "db725c71",
   "metadata": {},
   "outputs": [],
   "source": []
  }
 ],
 "metadata": {
  "kernelspec": {
   "display_name": "Python 3 (ipykernel)",
   "language": "python",
   "name": "python3"
  },
  "language_info": {
   "codemirror_mode": {
    "name": "ipython",
    "version": 3
   },
   "file_extension": ".py",
   "mimetype": "text/x-python",
   "name": "python",
   "nbconvert_exporter": "python",
   "pygments_lexer": "ipython3",
   "version": "3.9.12"
  }
 },
 "nbformat": 4,
 "nbformat_minor": 5
}
