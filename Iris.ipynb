{
 "cells": [
  {
   "cell_type": "code",
   "execution_count": 2,
   "id": "6028eb89",
   "metadata": {},
   "outputs": [],
   "source": [
    "import numpy as np\n",
    "import pandas as pd\n",
    "import pickle\n",
    "import tensorflow as tf\n",
    "from tensorflow import keras\n",
    "from tensorflow.keras import layers\n",
    "import matplotlib.pyplot as plt\n",
    "from tensorflow.keras.models import Sequential\n",
    "from sklearn.metrics import f1_score\n",
    "from sklearn.datasets import load_iris\n",
    "from sklearn.model_selection import train_test_split\n",
    "from sklearn.preprocessing import OneHotEncoder, StandardScaler\n",
    "\n"
   ]
  },
  {
   "cell_type": "code",
   "execution_count": null,
   "id": "0e4a99f3",
   "metadata": {},
   "outputs": [],
   "source": []
  },
  {
   "cell_type": "code",
   "execution_count": 3,
   "id": "6ba19f22",
   "metadata": {},
   "outputs": [],
   "source": [
    "iris = load_iris()\n",
    "X = iris['data']\n",
    "y = iris['target']\n",
    "names = iris['target_names']\n",
    "feature_names = iris['feature_names']"
   ]
  },
  {
   "cell_type": "code",
   "execution_count": 4,
   "id": "aea475df",
   "metadata": {},
   "outputs": [],
   "source": [
    "enc = OneHotEncoder()\n",
    "Y = enc.fit_transform(y[:, np.newaxis]).toarray()"
   ]
  },
  {
   "cell_type": "code",
   "execution_count": 5,
   "id": "3d739b30",
   "metadata": {},
   "outputs": [],
   "source": [
    "scaler = StandardScaler()\n",
    "X_scaled = scaler.fit_transform(X)"
   ]
  },
  {
   "cell_type": "code",
   "execution_count": 8,
   "id": "ca205a21",
   "metadata": {},
   "outputs": [],
   "source": [
    "# Split the data set into training and testing\n",
    "X_train, X_test, Y_train, Y_test = train_test_split(\n",
    "    X_scaled, Y, test_size=0.2, random_state=3)\n",
    "n_features = X.shape[1]\n",
    "n_classes = Y.shape[1]"
   ]
  },
  {
   "cell_type": "code",
   "execution_count": 9,
   "id": "5007204a",
   "metadata": {},
   "outputs": [
    {
     "data": {
      "image/png": "[encoded data removed]",
      "text/plain": [
       "<Figure size 1152x432 with 2 Axes>"
      ]
     },
     "metadata": {
      "needs_background": "light"
     },
     "output_type": "display_data"
    }
   ],
   "source": [
    "# Visualize the data sets\n",
    "plt.figure(figsize=(16, 6))\n",
    "plt.subplot(1, 2, 1)\n",
    "for target, target_name in enumerate(names):\n",
    "    X_plot = X[y == target]\n",
    "    plt.plot(X_plot[:, 0], X_plot[:, 1], linestyle='none', marker='o', label=target_name)\n",
    "plt.xlabel(feature_names[0])\n",
    "plt.ylabel(feature_names[1])\n",
    "plt.axis('equal')\n",
    "plt.legend();\n",
    "\n",
    "plt.subplot(1, 2, 2)\n",
    "for target, target_name in enumerate(names):\n",
    "    X_plot = X[y == target]\n",
    "    plt.plot(X_plot[:, 2], X_plot[:, 3], linestyle='none', marker='o', label=target_name)\n",
    "plt.xlabel(feature_names[2])\n",
    "plt.ylabel(feature_names[3])\n",
    "plt.axis('equal')\n",
    "plt.legend();"
   ]
  },
  {
   "cell_type": "code",
   "execution_count": 10,
   "id": "95b92c0b",
   "metadata": {},
   "outputs": [],
   "source": [
    "initializer0 = keras.initializers.RandomUniform(minval=-0.003, maxval=0)\n",
    "initializer1 = keras.initializers.RandomUniform(minval=-0.003, maxval=0)\n",
    "\n",
    "class Adaact(keras.layers.Layer):\n",
    "    def __init__(self):\n",
    "        super(Adaact, self).__init__()\n",
    "        self.k0 = self.add_weight(name='k0', shape=(), initializer=initializer0, trainable=True)\n",
    "        self.k1 = self.add_weight(name='k1', shape=(), initializer=initializer1, trainable=True)\n",
    "        \n",
    "    def call(self, inputs):\n",
    "        return self.k0 + tf.multiply(inputs, self.k1)"
   ]
  },
  {
   "cell_type": "code",
   "execution_count": 11,
   "id": "0a965627",
   "metadata": {},
   "outputs": [
    {
     "name": "stdout",
     "output_type": "stream",
     "text": [
      "Model: \"sequential\"\n",
      "_________________________________________________________________\n",
      " Layer (type)                Output Shape              Param #   \n",
      "=================================================================\n",
      " dense (Dense)               (None, 25)                125       \n",
      "                                                                 \n",
      " adaact (Adaact)             (None, 25)                2         \n",
      "                                                                 \n",
      " dropout (Dropout)           (None, 25)                0         \n",
      "                                                                 \n",
      " dense_1 (Dense)             (None, 3)                 78        \n",
      "                                                                 \n",
      "=================================================================\n",
      "Total params: 205\n",
      "Trainable params: 205\n",
      "Non-trainable params: 0\n",
      "_________________________________________________________________\n"
     ]
    }
   ],
   "source": [
    "# Create the model with one hidden layer\n",
    "model = Sequential()\n",
    "model.add(layers.Dense(25, input_dim=n_features))\n",
    "adaact = Adaact()\n",
    "model.add(adaact)\n",
    "model.add(layers.Dropout(0.1))\n",
    "model.add(layers.Dense(n_classes, activation='softmax'))\n",
    "model.summary()"
   ]
  },
  {
   "cell_type": "code",
   "execution_count": 12,
   "id": "6026b78a",
   "metadata": {},
   "outputs": [
    {
     "name": "stderr",
     "output_type": "stream",
     "text": [
      "WARNING:absl:`lr` is deprecated, please use `learning_rate` instead, or use the legacy optimizer, e.g.,tf.keras.optimizers.legacy.Adam.\n"
     ]
    },
    {
     "name": "stdout",
     "output_type": "stream",
     "text": [
      "Epoch 1/100\n",
      "20/20 [==============================] - 2s 28ms/step - loss: 1.0948 - accuracy: 0.5208 - val_loss: 1.0876 - val_accuracy: 0.7083\n",
      "Epoch 2/100\n",
      "20/20 [==============================] - 0s 4ms/step - loss: 1.0789 - accuracy: 0.7188 - val_loss: 1.0645 - val_accuracy: 0.8750\n",
      "Epoch 3/100\n",
      "20/20 [==============================] - 0s 4ms/step - loss: 1.0399 - accuracy: 0.7917 - val_loss: 1.0218 - val_accuracy: 0.8750\n",
      "Epoch 4/100\n",
      "20/20 [==============================] - 0s 6ms/step - loss: 0.9811 - accuracy: 0.8125 - val_loss: 0.9564 - val_accuracy: 0.8750\n",
      "Epoch 5/100\n",
      "20/20 [==============================] - 0s 4ms/step - loss: 0.9026 - accuracy: 0.7917 - val_loss: 0.8733 - val_accuracy: 0.9167\n",
      "Epoch 6/100\n",
      "20/20 [==============================] - 0s 4ms/step - loss: 0.8033 - accuracy: 0.8021 - val_loss: 0.7774 - val_accuracy: 0.8750\n",
      "Epoch 7/100\n",
      "20/20 [==============================] - 0s 4ms/step - loss: 0.7045 - accuracy: 0.8125 - val_loss: 0.6820 - val_accuracy: 0.8333\n",
      "Epoch 8/100\n",
      "20/20 [==============================] - 0s 4ms/step - loss: 0.6196 - accuracy: 0.8229 - val_loss: 0.5993 - val_accuracy: 0.8333\n",
      "Epoch 9/100\n",
      "20/20 [==============================] - 0s 5ms/step - loss: 0.5434 - accuracy: 0.8333 - val_loss: 0.5352 - val_accuracy: 0.8333\n",
      "Epoch 10/100\n",
      "20/20 [==============================] - 0s 6ms/step - loss: 0.5052 - accuracy: 0.8125 - val_loss: 0.4861 - val_accuracy: 0.8333\n",
      "Epoch 11/100\n",
      "20/20 [==============================] - 0s 5ms/step - loss: 0.4697 - accuracy: 0.8229 - val_loss: 0.4476 - val_accuracy: 0.8333\n",
      "Epoch 12/100\n",
      "20/20 [==============================] - 0s 4ms/step - loss: 0.4407 - accuracy: 0.8229 - val_loss: 0.4137 - val_accuracy: 0.8333\n",
      "Epoch 13/100\n",
      "20/20 [==============================] - 0s 5ms/step - loss: 0.4232 - accuracy: 0.8438 - val_loss: 0.3914 - val_accuracy: 0.8333\n",
      "Epoch 14/100\n",
      "20/20 [==============================] - 0s 5ms/step - loss: 0.4019 - accuracy: 0.8333 - val_loss: 0.3652 - val_accuracy: 0.8333\n",
      "Epoch 15/100\n",
      "20/20 [==============================] - 0s 6ms/step - loss: 0.3866 - accuracy: 0.8333 - val_loss: 0.3549 - val_accuracy: 0.9167\n",
      "Epoch 16/100\n",
      "20/20 [==============================] - 0s 5ms/step - loss: 0.3711 - accuracy: 0.8438 - val_loss: 0.3462 - val_accuracy: 0.9167\n",
      "Epoch 17/100\n",
      "20/20 [==============================] - 0s 5ms/step - loss: 0.3620 - accuracy: 0.8542 - val_loss: 0.3343 - val_accuracy: 0.9167\n",
      "Epoch 18/100\n",
      "20/20 [==============================] - 0s 5ms/step - loss: 0.3479 - accuracy: 0.8646 - val_loss: 0.3182 - val_accuracy: 0.9167\n",
      "Epoch 19/100\n",
      "20/20 [==============================] - 0s 4ms/step - loss: 0.3287 - accuracy: 0.8854 - val_loss: 0.3081 - val_accuracy: 0.9167\n",
      "Epoch 20/100\n",
      "20/20 [==============================] - 0s 4ms/step - loss: 0.3267 - accuracy: 0.8854 - val_loss: 0.3013 - val_accuracy: 0.9167\n",
      "Epoch 21/100\n",
      "20/20 [==============================] - 0s 5ms/step - loss: 0.3188 - accuracy: 0.9062 - val_loss: 0.2969 - val_accuracy: 0.9167\n",
      "Epoch 22/100\n",
      "20/20 [==============================] - 0s 5ms/step - loss: 0.3101 - accuracy: 0.9062 - val_loss: 0.2880 - val_accuracy: 0.9167\n",
      "Epoch 23/100\n",
      "20/20 [==============================] - 0s 4ms/step - loss: 0.2947 - accuracy: 0.8958 - val_loss: 0.2830 - val_accuracy: 0.9167\n",
      "Epoch 24/100\n",
      "20/20 [==============================] - 0s 4ms/step - loss: 0.2806 - accuracy: 0.9062 - val_loss: 0.2693 - val_accuracy: 0.9167\n",
      "Epoch 25/100\n",
      "20/20 [==============================] - 0s 4ms/step - loss: 0.2871 - accuracy: 0.9062 - val_loss: 0.2661 - val_accuracy: 0.9167\n",
      "Epoch 26/100\n",
      "20/20 [==============================] - 0s 5ms/step - loss: 0.2641 - accuracy: 0.9271 - val_loss: 0.2607 - val_accuracy: 0.9167\n",
      "Epoch 27/100\n",
      "20/20 [==============================] - 0s 4ms/step - loss: 0.2680 - accuracy: 0.8750 - val_loss: 0.2624 - val_accuracy: 0.9167\n",
      "Epoch 28/100\n",
      "20/20 [==============================] - 0s 4ms/step - loss: 0.2608 - accuracy: 0.9062 - val_loss: 0.2580 - val_accuracy: 0.9167\n",
      "Epoch 29/100\n",
      "20/20 [==============================] - 0s 4ms/step - loss: 0.2393 - accuracy: 0.9062 - val_loss: 0.2571 - val_accuracy: 0.9167\n",
      "Epoch 30/100\n",
      "20/20 [==============================] - 0s 5ms/step - loss: 0.2371 - accuracy: 0.9167 - val_loss: 0.2572 - val_accuracy: 0.9167\n",
      "Epoch 31/100\n",
      "20/20 [==============================] - 0s 6ms/step - loss: 0.2163 - accuracy: 0.9167 - val_loss: 0.2421 - val_accuracy: 0.9167\n",
      "Epoch 32/100\n",
      "20/20 [==============================] - 0s 5ms/step - loss: 0.2130 - accuracy: 0.9271 - val_loss: 0.2384 - val_accuracy: 0.9167\n",
      "Epoch 33/100\n",
      "20/20 [==============================] - 0s 4ms/step - loss: 0.2155 - accuracy: 0.9271 - val_loss: 0.2303 - val_accuracy: 0.9167\n",
      "Epoch 34/100\n",
      "20/20 [==============================] - 0s 4ms/step - loss: 0.2017 - accuracy: 0.9271 - val_loss: 0.2344 - val_accuracy: 0.9167\n",
      "Epoch 35/100\n",
      "20/20 [==============================] - 0s 4ms/step - loss: 0.2010 - accuracy: 0.9167 - val_loss: 0.2303 - val_accuracy: 0.9167\n",
      "Epoch 36/100\n",
      "20/20 [==============================] - 0s 4ms/step - loss: 0.1842 - accuracy: 0.9271 - val_loss: 0.2256 - val_accuracy: 0.9167\n",
      "Epoch 37/100\n",
      "20/20 [==============================] - 0s 3ms/step - loss: 0.1818 - accuracy: 0.9479 - val_loss: 0.2219 - val_accuracy: 0.9167\n",
      "Epoch 38/100\n",
      "20/20 [==============================] - 0s 5ms/step - loss: 0.1749 - accuracy: 0.9479 - val_loss: 0.2235 - val_accuracy: 0.9167\n",
      "Epoch 39/100\n",
      "20/20 [==============================] - 0s 5ms/step - loss: 0.1704 - accuracy: 0.9479 - val_loss: 0.2208 - val_accuracy: 0.9167\n",
      "Epoch 40/100\n",
      "20/20 [==============================] - 0s 4ms/step - loss: 0.1618 - accuracy: 0.9583 - val_loss: 0.2137 - val_accuracy: 0.9167\n",
      "Epoch 41/100\n",
      "20/20 [==============================] - 0s 4ms/step - loss: 0.1590 - accuracy: 0.9479 - val_loss: 0.2104 - val_accuracy: 0.9167\n",
      "Epoch 42/100\n",
      "20/20 [==============================] - 0s 3ms/step - loss: 0.1606 - accuracy: 0.9583 - val_loss: 0.2022 - val_accuracy: 0.9167\n",
      "Epoch 43/100\n",
      "20/20 [==============================] - 0s 3ms/step - loss: 0.1412 - accuracy: 0.9688 - val_loss: 0.1797 - val_accuracy: 0.9167\n",
      "Epoch 44/100\n",
      "20/20 [==============================] - 0s 4ms/step - loss: 0.1402 - accuracy: 0.9688 - val_loss: 0.1807 - val_accuracy: 0.9167\n",
      "Epoch 45/100\n",
      "20/20 [==============================] - 0s 3ms/step - loss: 0.1356 - accuracy: 0.9688 - val_loss: 0.1917 - val_accuracy: 0.9167\n",
      "Epoch 46/100\n",
      "20/20 [==============================] - 0s 4ms/step - loss: 0.1201 - accuracy: 0.9792 - val_loss: 0.1909 - val_accuracy: 0.9167\n",
      "Epoch 47/100\n",
      "20/20 [==============================] - 0s 5ms/step - loss: 0.1325 - accuracy: 0.9688 - val_loss: 0.1819 - val_accuracy: 0.9167\n",
      "Epoch 48/100\n",
      "20/20 [==============================] - 0s 4ms/step - loss: 0.1319 - accuracy: 0.9583 - val_loss: 0.1606 - val_accuracy: 0.9167\n",
      "Epoch 49/100\n",
      "20/20 [==============================] - 0s 4ms/step - loss: 0.1252 - accuracy: 0.9688 - val_loss: 0.1548 - val_accuracy: 0.9167\n",
      "Epoch 50/100\n",
      "20/20 [==============================] - 0s 3ms/step - loss: 0.1285 - accuracy: 0.9479 - val_loss: 0.1668 - val_accuracy: 0.9167\n",
      "Epoch 51/100\n",
      "20/20 [==============================] - 0s 3ms/step - loss: 0.0976 - accuracy: 0.9792 - val_loss: 0.1669 - val_accuracy: 0.9167\n",
      "Epoch 52/100\n",
      "20/20 [==============================] - 0s 3ms/step - loss: 0.1071 - accuracy: 0.9688 - val_loss: 0.1786 - val_accuracy: 0.9167\n",
      "Epoch 53/100\n",
      "20/20 [==============================] - 0s 3ms/step - loss: 0.1175 - accuracy: 0.9688 - val_loss: 0.1467 - val_accuracy: 0.9167\n",
      "Epoch 54/100\n",
      "20/20 [==============================] - 0s 4ms/step - loss: 0.1001 - accuracy: 0.9688 - val_loss: 0.1494 - val_accuracy: 0.9167\n",
      "Epoch 55/100\n",
      "20/20 [==============================] - 0s 4ms/step - loss: 0.0916 - accuracy: 0.9792 - val_loss: 0.1550 - val_accuracy: 0.9167\n",
      "Epoch 56/100\n",
      "20/20 [==============================] - 0s 4ms/step - loss: 0.1078 - accuracy: 0.9688 - val_loss: 0.1410 - val_accuracy: 0.9167\n",
      "Epoch 57/100\n",
      "20/20 [==============================] - 0s 3ms/step - loss: 0.0916 - accuracy: 0.9688 - val_loss: 0.1544 - val_accuracy: 0.9167\n",
      "Epoch 58/100\n",
      "20/20 [==============================] - 0s 4ms/step - loss: 0.1012 - accuracy: 0.9792 - val_loss: 0.1383 - val_accuracy: 0.9167\n",
      "Epoch 59/100\n",
      "20/20 [==============================] - 0s 3ms/step - loss: 0.1070 - accuracy: 0.9688 - val_loss: 0.1359 - val_accuracy: 0.9167\n",
      "Epoch 60/100\n",
      "20/20 [==============================] - 0s 3ms/step - loss: 0.0770 - accuracy: 0.9792 - val_loss: 0.1442 - val_accuracy: 0.9167\n",
      "Epoch 61/100\n",
      "20/20 [==============================] - 0s 3ms/step - loss: 0.0967 - accuracy: 0.9479 - val_loss: 0.1340 - val_accuracy: 0.9167\n",
      "Epoch 62/100\n",
      "20/20 [==============================] - 0s 3ms/step - loss: 0.0706 - accuracy: 0.9792 - val_loss: 0.1460 - val_accuracy: 0.9167\n",
      "Epoch 63/100\n",
      "20/20 [==============================] - 0s 3ms/step - loss: 0.0831 - accuracy: 0.9583 - val_loss: 0.1401 - val_accuracy: 0.9167\n",
      "Epoch 64/100\n",
      "20/20 [==============================] - 0s 3ms/step - loss: 0.0778 - accuracy: 0.9792 - val_loss: 0.1226 - val_accuracy: 0.9167\n",
      "Epoch 65/100\n",
      "20/20 [==============================] - 0s 3ms/step - loss: 0.0771 - accuracy: 0.9896 - val_loss: 0.1254 - val_accuracy: 0.9167\n",
      "Epoch 66/100\n",
      "20/20 [==============================] - 0s 3ms/step - loss: 0.1056 - accuracy: 0.9583 - val_loss: 0.1223 - val_accuracy: 0.9167\n",
      "Epoch 67/100\n",
      "20/20 [==============================] - 0s 3ms/step - loss: 0.0800 - accuracy: 0.9792 - val_loss: 0.1171 - val_accuracy: 0.9167\n",
      "Epoch 68/100\n",
      "20/20 [==============================] - 0s 3ms/step - loss: 0.0787 - accuracy: 0.9896 - val_loss: 0.1195 - val_accuracy: 0.9167\n",
      "Epoch 69/100\n",
      "20/20 [==============================] - 0s 3ms/step - loss: 0.0805 - accuracy: 0.9792 - val_loss: 0.1105 - val_accuracy: 0.9583\n",
      "Epoch 70/100\n",
      "20/20 [==============================] - 0s 3ms/step - loss: 0.0967 - accuracy: 0.9583 - val_loss: 0.1314 - val_accuracy: 0.9167\n",
      "Epoch 71/100\n",
      "20/20 [==============================] - 0s 4ms/step - loss: 0.0780 - accuracy: 0.9688 - val_loss: 0.1276 - val_accuracy: 0.9167\n",
      "Epoch 72/100\n",
      "20/20 [==============================] - 0s 4ms/step - loss: 0.0679 - accuracy: 0.9688 - val_loss: 0.1295 - val_accuracy: 0.9167\n",
      "Epoch 73/100\n",
      "20/20 [==============================] - 0s 3ms/step - loss: 0.0650 - accuracy: 0.9896 - val_loss: 0.1277 - val_accuracy: 0.9167\n",
      "Epoch 74/100\n",
      "20/20 [==============================] - 0s 3ms/step - loss: 0.0764 - accuracy: 0.9688 - val_loss: 0.1189 - val_accuracy: 0.9167\n",
      "Epoch 75/100\n",
      "20/20 [==============================] - 0s 3ms/step - loss: 0.0626 - accuracy: 0.9896 - val_loss: 0.1180 - val_accuracy: 0.9167\n",
      "Epoch 76/100\n",
      "20/20 [==============================] - 0s 3ms/step - loss: 0.0764 - accuracy: 0.9792 - val_loss: 0.1173 - val_accuracy: 0.9167\n",
      "Epoch 77/100\n",
      "20/20 [==============================] - 0s 3ms/step - loss: 0.0784 - accuracy: 0.9688 - val_loss: 0.1144 - val_accuracy: 0.9167\n",
      "Epoch 78/100\n",
      "20/20 [==============================] - 0s 4ms/step - loss: 0.0725 - accuracy: 0.9688 - val_loss: 0.1246 - val_accuracy: 0.9167\n",
      "Epoch 79/100\n",
      "20/20 [==============================] - 0s 4ms/step - loss: 0.0852 - accuracy: 0.9792 - val_loss: 0.1287 - val_accuracy: 0.9167\n",
      "Epoch 80/100\n",
      "20/20 [==============================] - 0s 3ms/step - loss: 0.0768 - accuracy: 0.9583 - val_loss: 0.0805 - val_accuracy: 1.0000\n",
      "Epoch 81/100\n",
      "20/20 [==============================] - 0s 3ms/step - loss: 0.0759 - accuracy: 0.9583 - val_loss: 0.1103 - val_accuracy: 0.9583\n",
      "Epoch 82/100\n",
      "20/20 [==============================] - 0s 4ms/step - loss: 0.0697 - accuracy: 0.9583 - val_loss: 0.1197 - val_accuracy: 0.9167\n",
      "Epoch 83/100\n",
      "20/20 [==============================] - 0s 4ms/step - loss: 0.0665 - accuracy: 0.9583 - val_loss: 0.1203 - val_accuracy: 0.9167\n",
      "Epoch 84/100\n",
      "20/20 [==============================] - 0s 4ms/step - loss: 0.0593 - accuracy: 0.9896 - val_loss: 0.1244 - val_accuracy: 0.9167\n",
      "Epoch 85/100\n",
      "20/20 [==============================] - 0s 3ms/step - loss: 0.0674 - accuracy: 0.9792 - val_loss: 0.1234 - val_accuracy: 0.9167\n",
      "Epoch 86/100\n",
      "20/20 [==============================] - 0s 4ms/step - loss: 0.0712 - accuracy: 0.9583 - val_loss: 0.1303 - val_accuracy: 0.9167\n",
      "Epoch 87/100\n",
      "20/20 [==============================] - 2s 113ms/step - loss: 0.0671 - accuracy: 0.9688 - val_loss: 0.1223 - val_accuracy: 0.9167\n",
      "Epoch 88/100\n",
      "20/20 [==============================] - 1s 39ms/step - loss: 0.0842 - accuracy: 0.9583 - val_loss: 0.1223 - val_accuracy: 0.9167\n",
      "Epoch 89/100\n",
      "20/20 [==============================] - 1s 30ms/step - loss: 0.0631 - accuracy: 0.9688 - val_loss: 0.0999 - val_accuracy: 0.9583\n",
      "Epoch 90/100\n",
      "20/20 [==============================] - 0s 17ms/step - loss: 0.0687 - accuracy: 0.9792 - val_loss: 0.1136 - val_accuracy: 0.9167\n",
      "Epoch 91/100\n",
      "20/20 [==============================] - 0s 17ms/step - loss: 0.0678 - accuracy: 0.9688 - val_loss: 0.1301 - val_accuracy: 0.9167\n",
      "Epoch 92/100\n",
      "20/20 [==============================] - 0s 17ms/step - loss: 0.0758 - accuracy: 0.9792 - val_loss: 0.1313 - val_accuracy: 0.9167\n",
      "Epoch 93/100\n",
      "20/20 [==============================] - 0s 17ms/step - loss: 0.0767 - accuracy: 0.9792 - val_loss: 0.1072 - val_accuracy: 0.9583\n",
      "Epoch 94/100\n",
      "20/20 [==============================] - 0s 17ms/step - loss: 0.0633 - accuracy: 0.9583 - val_loss: 0.1209 - val_accuracy: 0.9167\n",
      "Epoch 95/100\n",
      "20/20 [==============================] - 0s 18ms/step - loss: 0.0648 - accuracy: 0.9688 - val_loss: 0.1107 - val_accuracy: 0.9167\n",
      "Epoch 96/100\n",
      "20/20 [==============================] - 0s 17ms/step - loss: 0.0755 - accuracy: 0.9688 - val_loss: 0.1148 - val_accuracy: 0.9167\n",
      "Epoch 97/100\n",
      "20/20 [==============================] - 0s 18ms/step - loss: 0.0701 - accuracy: 0.9792 - val_loss: 0.1086 - val_accuracy: 0.9583\n",
      "Epoch 98/100\n",
      "20/20 [==============================] - 0s 21ms/step - loss: 0.0640 - accuracy: 0.9688 - val_loss: 0.0981 - val_accuracy: 0.9583\n",
      "Epoch 99/100\n",
      "20/20 [==============================] - 0s 17ms/step - loss: 0.0655 - accuracy: 0.9688 - val_loss: 0.0991 - val_accuracy: 0.9583\n",
      "Epoch 100/100\n",
      "20/20 [==============================] - 0s 18ms/step - loss: 0.0691 - accuracy: 0.9688 - val_loss: 0.0961 - val_accuracy: 0.9583\n"
     ]
    }
   ],
   "source": [
    "batch_size = 5\n",
    "epochs = 100\n",
    "\n",
    "model.compile(loss=\"categorical_crossentropy\", optimizer=keras.optimizers.Adam(lr=0.001), metrics=[\"accuracy\"])\n",
    "\n",
    "history=model.fit(X_train, Y_train, batch_size=batch_size, epochs=epochs, validation_split=0.2, verbose=1)"
   ]
  },
  {
   "cell_type": "code",
   "execution_count": 13,
   "id": "797769b7",
   "metadata": {},
   "outputs": [
    {
     "name": "stdout",
     "output_type": "stream",
     "text": [
      "[array([[ 0.04347074,  0.02854033,  0.54393446,  0.50591785, -0.06832111,\n",
      "        -0.3133644 , -0.2320109 ,  0.18101865, -0.45831332,  0.06064874,\n",
      "        -0.20451313,  0.09664536,  0.71051145, -0.06728855,  0.28706947,\n",
      "         0.10912629, -0.39920536,  0.49412653,  0.5731035 ,  0.47092617,\n",
      "        -0.6031704 ,  0.09612831,  0.04733438,  0.54154575, -0.10177981],\n",
      "       [ 0.11054602,  0.5046623 , -0.18276957, -0.7367424 , -0.5094801 ,\n",
      "        -0.44916785,  0.26462176, -0.2675489 ,  0.10171369, -0.4664812 ,\n",
      "         0.40820187, -0.6463642 , -0.48216778,  0.17643891,  0.34595644,\n",
      "        -0.24767782,  0.03798526, -0.07316998, -0.00209532, -0.43177015,\n",
      "         0.68155295, -0.58497953,  0.24230498, -0.10325208, -0.14964591],\n",
      "       [-0.44381317, -0.04318219,  0.80703413,  0.3352985 ,  0.24704179,\n",
      "         0.65032554,  0.08733241, -0.303291  , -0.48651424,  0.9223677 ,\n",
      "        -0.736178  ,  0.7242433 ,  0.64415896,  0.07176363,  0.07634863,\n",
      "         0.5357668 , -0.47143275,  0.21922055,  0.46853125,  0.7860034 ,\n",
      "        -0.8717771 ,  0.55166286, -0.5043354 ,  0.5036707 ,  0.52476025],\n",
      "       [-0.534949  , -0.01394801,  0.9759195 ,  0.9439557 ,  1.0321149 ,\n",
      "         0.56549567,  0.70333284, -0.080771  , -0.7868177 ,  1.0498941 ,\n",
      "        -0.06977189,  0.82397485,  0.44396952,  0.53641725,  0.3871725 ,\n",
      "         0.83139557, -0.8396457 ,  0.09769531,  0.37373027, -0.0162826 ,\n",
      "        -0.9653472 ,  0.7828544 , -0.9459116 ,  0.13452812,  0.9604221 ]],\n",
      "      dtype=float32), array([ 0.50916374, -0.49863833, -0.27212223, -0.2334965 , -0.47532123,\n",
      "       -0.5294151 , -0.4897365 ,  0.5014313 ,  0.34291583,  0.27997062,\n",
      "       -0.51510984, -0.13471712,  0.45780262, -0.46918374, -0.4970115 ,\n",
      "       -0.25564402,  0.45351696,  0.64316803,  0.47949427,  0.5659237 ,\n",
      "        0.19908571,  0.41162544,  0.41222593, -0.39790118, -0.38572997],\n",
      "      dtype=float32), -0.23963746, 0.65548193, array([[ 0.12145612,  0.2751031 , -0.69046694],\n",
      "       [ 0.45026547, -0.81990135,  0.05063294],\n",
      "       [-0.8860788 , -0.49947655,  0.12336667],\n",
      "       [-0.7673342 , -0.3683982 ,  0.20980074],\n",
      "       [-0.13517168, -0.45017618,  1.3405735 ],\n",
      "       [-0.3247134 , -0.79226744,  1.0142516 ],\n",
      "       [ 0.20910196, -0.91197044,  0.9110424 ],\n",
      "       [-0.12763076,  0.68185097, -0.3517649 ],\n",
      "       [ 0.74479556, -0.04472954, -0.7068423 ],\n",
      "       [-0.83910584, -0.0772807 ,  0.15294416],\n",
      "       [ 0.9032055 , -0.53454465, -0.10145068],\n",
      "       [-0.9063405 , -0.07753038,  0.6731358 ],\n",
      "       [-0.82558334,  0.18122718,  0.12218919],\n",
      "       [ 0.40442994, -0.9744474 ,  0.83959496],\n",
      "       [ 0.4547902 , -0.14532486,  0.8015249 ],\n",
      "       [-0.3965082 , -0.02656784,  0.91359967],\n",
      "       [ 0.55460006,  0.22727716, -0.42607412],\n",
      "       [-0.75192153,  0.4195745 ,  0.02262626],\n",
      "       [-0.99570215,  0.07749242,  0.01263566],\n",
      "       [-0.44897312,  0.6790307 ,  0.50565344],\n",
      "       [ 0.88544685,  0.01386677, -0.41617495],\n",
      "       [-0.86311984,  0.24634051,  0.300124  ],\n",
      "       [ 0.24422354, -0.27900216, -0.90422165],\n",
      "       [-0.45996112, -0.4354649 ,  0.5448102 ],\n",
      "       [-0.61608344, -0.4248811 ,  0.89147276]], dtype=float32), array([-0.12396154,  0.31101596, -0.2852365 ], dtype=float32)]\n"
     ]
    }
   ],
   "source": [
    "final_parameter_values = model.get_weights()\n",
    "print(final_parameter_values)"
   ]
  },
  {
   "cell_type": "code",
   "execution_count": 14,
   "id": "9b8a596f",
   "metadata": {},
   "outputs": [
    {
     "name": "stdout",
     "output_type": "stream",
     "text": [
      "AF coefficients (weights) [-0.23963746, 0.65548193]\n"
     ]
    }
   ],
   "source": [
    "print(\"AF coefficients (weights) {}\".format(adaact.get_weights()))"
   ]
  },
  {
   "cell_type": "code",
   "execution_count": 15,
   "id": "cac8cc67",
   "metadata": {},
   "outputs": [
    {
     "name": "stdout",
     "output_type": "stream",
     "text": [
      "Test loss: 0.06050286814570427\n",
      "Test accuracy: 0.9666666388511658\n"
     ]
    }
   ],
   "source": [
    "score = model.evaluate(X_test, Y_test, verbose=0)\n",
    "print(\"Test loss:\", score[0])\n",
    "print(\"Test accuracy:\", score[1])"
   ]
  },
  {
   "cell_type": "code",
   "execution_count": 16,
   "id": "acd9c394",
   "metadata": {},
   "outputs": [
    {
     "name": "stdout",
     "output_type": "stream",
     "text": [
      "1/1 [==============================] - 0s 489ms/step\n"
     ]
    }
   ],
   "source": [
    "y_pred = model.predict(X_test)\n",
    "y_pred = np.argmax(y_pred, axis=1)\n",
    "y_true = np.argmax(Y_test, axis=1)"
   ]
  },
  {
   "cell_type": "code",
   "execution_count": 17,
   "id": "a88460df",
   "metadata": {},
   "outputs": [
    {
     "name": "stdout",
     "output_type": "stream",
     "text": [
      "f1 score is 0.9665831244778613\n"
     ]
    }
   ],
   "source": [
    "# Compute the F1-score\n",
    "f1 = f1_score(y_true, y_pred, average='weighted')\n",
    "print(\"f1 score is {}\".format(f1))"
   ]
  },
  {
   "cell_type": "code",
   "execution_count": 18,
   "id": "d8428337",
   "metadata": {},
   "outputs": [
    {
     "data": {
      "image/png": "[encoded data removed]",
      "text/plain": [
       "<Figure size 432x288 with 1 Axes>"
      ]
     },
     "metadata": {
      "needs_background": "light"
     },
     "output_type": "display_data"
    }
   ],
   "source": [
    "train_loss = history.history['loss']\n",
    "test_loss = history.history['val_loss']\n",
    "plt.plot(range(1, epochs+1), train_loss, label='Train Loss')\n",
    "plt.plot(range(1, epochs+1), test_loss, label='Test Loss')\n",
    "plt.xlabel('Epochs')\n",
    "plt.ylabel('Loss')\n",
    "plt.title('Loss Function vs. Epochs')\n",
    "plt.legend()\n",
    "plt.show()"
   ]
  },
  {
   "cell_type": "code",
   "execution_count": null,
   "id": "97f5b537",
   "metadata": {},
   "outputs": [],
   "source": []
  }
 ],
 "metadata": {
  "kernelspec": {
   "display_name": "Python 3 (ipykernel)",
   "language": "python",
   "name": "python3"
  },
  "language_info": {
   "codemirror_mode": {
    "name": "ipython",
    "version": 3
   },
   "file_extension": ".py",
   "mimetype": "text/x-python",
   "name": "python",
   "nbconvert_exporter": "python",
   "pygments_lexer": "ipython3",
   "version": "3.9.12"
  }
 },
 "nbformat": 4,
 "nbformat_minor": 5
}
